{
 "cells": [
  {
   "cell_type": "code",
   "execution_count": 2,
   "metadata": {},
   "outputs": [],
   "source": [
    "import numpy as np\n",
    "import pandas as pd\n"
   ]
  },
  {
   "cell_type": "code",
   "execution_count": 3,
   "metadata": {},
   "outputs": [],
   "source": [
    "#Ler os dados do dataset vinho tinto\n",
    "df_red = pd.read_csv('winequality-red.csv', encoding =\"UTF-8\", sep=';')\n",
    "\n",
    "#Ler os dados do dataset vinho branco\n",
    "df_white = pd.read_csv('winequality-white.csv', encoding =\"UTF-8\", sep=';')"
   ]
  },
  {
   "cell_type": "code",
   "execution_count": 4,
   "metadata": {},
   "outputs": [],
   "source": [
    "#Separar as entradas (com base em testes físico-químicos) da saída (com base em dados sensoriais)\n",
    "#labels = df_red[\"quality\"]\n",
    "#dados = df_red[{\"fixed acidity\", \"volatile acidity\", \"citric acid\", \"residual sugar\", \"chlorides\", \"free sulfur dioxide\", \"total sulfur dioxide\", \"density\",\"pH\", \"sulphates\", \"alcohol\"}]"
   ]
  },
  {
   "cell_type": "code",
   "execution_count": 5,
   "metadata": {},
   "outputs": [
    {
     "data": {
      "text/html": [
       "<div>\n",
       "<style scoped>\n",
       "    .dataframe tbody tr th:only-of-type {\n",
       "        vertical-align: middle;\n",
       "    }\n",
       "\n",
       "    .dataframe tbody tr th {\n",
       "        vertical-align: top;\n",
       "    }\n",
       "\n",
       "    .dataframe thead th {\n",
       "        text-align: right;\n",
       "    }\n",
       "</style>\n",
       "<table border=\"1\" class=\"dataframe\">\n",
       "  <thead>\n",
       "    <tr style=\"text-align: right;\">\n",
       "      <th></th>\n",
       "      <th>fixed acidity</th>\n",
       "      <th>volatile acidity</th>\n",
       "      <th>citric acid</th>\n",
       "      <th>residual sugar</th>\n",
       "      <th>chlorides</th>\n",
       "      <th>free sulfur dioxide</th>\n",
       "      <th>total sulfur dioxide</th>\n",
       "      <th>density</th>\n",
       "      <th>pH</th>\n",
       "      <th>sulphates</th>\n",
       "      <th>alcohol</th>\n",
       "      <th>quality</th>\n",
       "    </tr>\n",
       "  </thead>\n",
       "  <tbody>\n",
       "    <tr>\n",
       "      <th>0</th>\n",
       "      <td>7.4</td>\n",
       "      <td>0.700</td>\n",
       "      <td>0.00</td>\n",
       "      <td>1.9</td>\n",
       "      <td>0.076</td>\n",
       "      <td>11.0</td>\n",
       "      <td>34.0</td>\n",
       "      <td>0.99780</td>\n",
       "      <td>3.51</td>\n",
       "      <td>0.56</td>\n",
       "      <td>9.4</td>\n",
       "      <td>5</td>\n",
       "    </tr>\n",
       "    <tr>\n",
       "      <th>1</th>\n",
       "      <td>7.8</td>\n",
       "      <td>0.880</td>\n",
       "      <td>0.00</td>\n",
       "      <td>2.6</td>\n",
       "      <td>0.098</td>\n",
       "      <td>25.0</td>\n",
       "      <td>67.0</td>\n",
       "      <td>0.99680</td>\n",
       "      <td>3.20</td>\n",
       "      <td>0.68</td>\n",
       "      <td>9.8</td>\n",
       "      <td>5</td>\n",
       "    </tr>\n",
       "    <tr>\n",
       "      <th>2</th>\n",
       "      <td>7.8</td>\n",
       "      <td>0.760</td>\n",
       "      <td>0.04</td>\n",
       "      <td>2.3</td>\n",
       "      <td>0.092</td>\n",
       "      <td>15.0</td>\n",
       "      <td>54.0</td>\n",
       "      <td>0.99700</td>\n",
       "      <td>3.26</td>\n",
       "      <td>0.65</td>\n",
       "      <td>9.8</td>\n",
       "      <td>5</td>\n",
       "    </tr>\n",
       "    <tr>\n",
       "      <th>3</th>\n",
       "      <td>11.2</td>\n",
       "      <td>0.280</td>\n",
       "      <td>0.56</td>\n",
       "      <td>1.9</td>\n",
       "      <td>0.075</td>\n",
       "      <td>17.0</td>\n",
       "      <td>60.0</td>\n",
       "      <td>0.99800</td>\n",
       "      <td>3.16</td>\n",
       "      <td>0.58</td>\n",
       "      <td>9.8</td>\n",
       "      <td>6</td>\n",
       "    </tr>\n",
       "    <tr>\n",
       "      <th>4</th>\n",
       "      <td>7.4</td>\n",
       "      <td>0.700</td>\n",
       "      <td>0.00</td>\n",
       "      <td>1.9</td>\n",
       "      <td>0.076</td>\n",
       "      <td>11.0</td>\n",
       "      <td>34.0</td>\n",
       "      <td>0.99780</td>\n",
       "      <td>3.51</td>\n",
       "      <td>0.56</td>\n",
       "      <td>9.4</td>\n",
       "      <td>5</td>\n",
       "    </tr>\n",
       "    <tr>\n",
       "      <th>...</th>\n",
       "      <td>...</td>\n",
       "      <td>...</td>\n",
       "      <td>...</td>\n",
       "      <td>...</td>\n",
       "      <td>...</td>\n",
       "      <td>...</td>\n",
       "      <td>...</td>\n",
       "      <td>...</td>\n",
       "      <td>...</td>\n",
       "      <td>...</td>\n",
       "      <td>...</td>\n",
       "      <td>...</td>\n",
       "    </tr>\n",
       "    <tr>\n",
       "      <th>1594</th>\n",
       "      <td>6.2</td>\n",
       "      <td>0.600</td>\n",
       "      <td>0.08</td>\n",
       "      <td>2.0</td>\n",
       "      <td>0.090</td>\n",
       "      <td>32.0</td>\n",
       "      <td>44.0</td>\n",
       "      <td>0.99490</td>\n",
       "      <td>3.45</td>\n",
       "      <td>0.58</td>\n",
       "      <td>10.5</td>\n",
       "      <td>5</td>\n",
       "    </tr>\n",
       "    <tr>\n",
       "      <th>1595</th>\n",
       "      <td>5.9</td>\n",
       "      <td>0.550</td>\n",
       "      <td>0.10</td>\n",
       "      <td>2.2</td>\n",
       "      <td>0.062</td>\n",
       "      <td>39.0</td>\n",
       "      <td>51.0</td>\n",
       "      <td>0.99512</td>\n",
       "      <td>3.52</td>\n",
       "      <td>0.76</td>\n",
       "      <td>11.2</td>\n",
       "      <td>6</td>\n",
       "    </tr>\n",
       "    <tr>\n",
       "      <th>1596</th>\n",
       "      <td>6.3</td>\n",
       "      <td>0.510</td>\n",
       "      <td>0.13</td>\n",
       "      <td>2.3</td>\n",
       "      <td>0.076</td>\n",
       "      <td>29.0</td>\n",
       "      <td>40.0</td>\n",
       "      <td>0.99574</td>\n",
       "      <td>3.42</td>\n",
       "      <td>0.75</td>\n",
       "      <td>11.0</td>\n",
       "      <td>6</td>\n",
       "    </tr>\n",
       "    <tr>\n",
       "      <th>1597</th>\n",
       "      <td>5.9</td>\n",
       "      <td>0.645</td>\n",
       "      <td>0.12</td>\n",
       "      <td>2.0</td>\n",
       "      <td>0.075</td>\n",
       "      <td>32.0</td>\n",
       "      <td>44.0</td>\n",
       "      <td>0.99547</td>\n",
       "      <td>3.57</td>\n",
       "      <td>0.71</td>\n",
       "      <td>10.2</td>\n",
       "      <td>5</td>\n",
       "    </tr>\n",
       "    <tr>\n",
       "      <th>1598</th>\n",
       "      <td>6.0</td>\n",
       "      <td>0.310</td>\n",
       "      <td>0.47</td>\n",
       "      <td>3.6</td>\n",
       "      <td>0.067</td>\n",
       "      <td>18.0</td>\n",
       "      <td>42.0</td>\n",
       "      <td>0.99549</td>\n",
       "      <td>3.39</td>\n",
       "      <td>0.66</td>\n",
       "      <td>11.0</td>\n",
       "      <td>6</td>\n",
       "    </tr>\n",
       "  </tbody>\n",
       "</table>\n",
       "<p>1599 rows × 12 columns</p>\n",
       "</div>"
      ],
      "text/plain": [
       "      fixed acidity  volatile acidity  citric acid  residual sugar  chlorides  \\\n",
       "0               7.4             0.700         0.00             1.9      0.076   \n",
       "1               7.8             0.880         0.00             2.6      0.098   \n",
       "2               7.8             0.760         0.04             2.3      0.092   \n",
       "3              11.2             0.280         0.56             1.9      0.075   \n",
       "4               7.4             0.700         0.00             1.9      0.076   \n",
       "...             ...               ...          ...             ...        ...   \n",
       "1594            6.2             0.600         0.08             2.0      0.090   \n",
       "1595            5.9             0.550         0.10             2.2      0.062   \n",
       "1596            6.3             0.510         0.13             2.3      0.076   \n",
       "1597            5.9             0.645         0.12             2.0      0.075   \n",
       "1598            6.0             0.310         0.47             3.6      0.067   \n",
       "\n",
       "      free sulfur dioxide  total sulfur dioxide  density    pH  sulphates  \\\n",
       "0                    11.0                  34.0  0.99780  3.51       0.56   \n",
       "1                    25.0                  67.0  0.99680  3.20       0.68   \n",
       "2                    15.0                  54.0  0.99700  3.26       0.65   \n",
       "3                    17.0                  60.0  0.99800  3.16       0.58   \n",
       "4                    11.0                  34.0  0.99780  3.51       0.56   \n",
       "...                   ...                   ...      ...   ...        ...   \n",
       "1594                 32.0                  44.0  0.99490  3.45       0.58   \n",
       "1595                 39.0                  51.0  0.99512  3.52       0.76   \n",
       "1596                 29.0                  40.0  0.99574  3.42       0.75   \n",
       "1597                 32.0                  44.0  0.99547  3.57       0.71   \n",
       "1598                 18.0                  42.0  0.99549  3.39       0.66   \n",
       "\n",
       "      alcohol  quality  \n",
       "0         9.4        5  \n",
       "1         9.8        5  \n",
       "2         9.8        5  \n",
       "3         9.8        6  \n",
       "4         9.4        5  \n",
       "...       ...      ...  \n",
       "1594     10.5        5  \n",
       "1595     11.2        6  \n",
       "1596     11.0        6  \n",
       "1597     10.2        5  \n",
       "1598     11.0        6  \n",
       "\n",
       "[1599 rows x 12 columns]"
      ]
     },
     "execution_count": 5,
     "metadata": {},
     "output_type": "execute_result"
    }
   ],
   "source": [
    "df_red"
   ]
  },
  {
   "cell_type": "code",
   "execution_count": 6,
   "metadata": {},
   "outputs": [],
   "source": [
    "round(len(df_red)*0.3)\n",
    "df_red = np.asarray(df_red)"
   ]
  },
  {
   "cell_type": "code",
   "execution_count": 7,
   "metadata": {},
   "outputs": [],
   "source": [
    "#Dividir os dados em treino e em teste (70% para treino, 30% para teste)\n",
    "l_treino = df_red[:int(len(df_red)*0.7),-1] \n",
    "l_test = df_red[-int(len(df_red)*0.3):,-1]\n",
    "\n",
    "d_treino = df_red[:int(len(df_red)*0.7),:-1]\n",
    "d_test = df_red[-int(len(df_red)*0.3):,:-1]"
   ]
  },
  {
   "cell_type": "code",
   "execution_count": 8,
   "metadata": {},
   "outputs": [
    {
     "data": {
      "text/plain": [
       "(1119, 11)"
      ]
     },
     "execution_count": 8,
     "metadata": {},
     "output_type": "execute_result"
    }
   ],
   "source": [
    "d_treino.shape"
   ]
  },
  {
   "cell_type": "code",
   "execution_count": 9,
   "metadata": {},
   "outputs": [
    {
     "name": "stdout",
     "output_type": "stream",
     "text": [
      "(1119,)\n",
      "(479,)\n",
      "(1119, 11)\n",
      "(479, 11)\n",
      "1599\n",
      "1598\n"
     ]
    }
   ],
   "source": [
    "print(l_treino.shape)\n",
    "print(l_test.shape)\n",
    "print(d_treino.shape)\n",
    "print(d_test.shape)\n",
    "print(len(df_red))\n",
    "print(1119+479) #Deitou uma linha fora r,ou ndperimentar round"
   ]
  },
  {
   "cell_type": "code",
   "execution_count": 10,
   "metadata": {},
   "outputs": [],
   "source": [
    "#Ajustar o formato dos dados à rede de entrada\n",
    "d_treino = d_treino.astype(\"float32\")/255\n",
    "d_test = d_test.astype(\"float32\")/255"
   ]
  },
  {
   "cell_type": "code",
   "execution_count": 11,
   "metadata": {},
   "outputs": [],
   "source": [
    "#Ajustar o formato dos dados à rede de saída\n",
    "from tensorflow.keras.utils import to_categorical\n",
    "\n",
    "l_treino = to_categorical(l_treino)\n",
    "l_test = to_categorical(l_test)"
   ]
  },
  {
   "cell_type": "code",
   "execution_count": 12,
   "metadata": {},
   "outputs": [
    {
     "name": "stdout",
     "output_type": "stream",
     "text": [
      "(1119, 11)\n"
     ]
    }
   ],
   "source": [
    "l_treino = np.asarray(l_treino)\n",
    "l_test = np.asarray(l_test)\n",
    "d_treino = np.asarray(d_treino)\n",
    "d_test = np.asarray(d_test)\n",
    "print(d_treino.shape)"
   ]
  },
  {
   "cell_type": "code",
   "execution_count": 13,
   "metadata": {},
   "outputs": [
    {
     "data": {
      "text/plain": [
       "(1119, 9)"
      ]
     },
     "execution_count": 13,
     "metadata": {},
     "output_type": "execute_result"
    }
   ],
   "source": [
    "l_treino.shape"
   ]
  },
  {
   "cell_type": "code",
   "execution_count": 14,
   "metadata": {},
   "outputs": [],
   "source": [
    "#Modelo\n",
    "from tensorflow.keras import models\n",
    "from tensorflow.keras import layers\n",
    "\n",
    "rede = models.Sequential()\n",
    "rede.add(layers.Dense(64, activation=\"relu\",input_shape=(11,)))\n",
    "rede.add(layers.Dense(128, activation=\"relu\"))\n",
    "rede.add(layers.Dense(256, activation=\"relu\"))\n",
    "rede.add(layers.Dense(128, activation=\"relu\"))\n",
    "rede.add(layers.Dense(64, activation=\"relu\"))\n",
    "rede.add(layers.Dense(128, activation=\"relu\"))\n",
    "rede.add(layers.Dense(64, activation=\"relu\"))\n",
    "rede.add(layers.Dense(9, activation=\"softmax\"))\n",
    "\n",
    "rede.compile(optimizer=\"rmsprop\",\n",
    "            loss=\"categorical_crossentropy\",\n",
    "            metrics=[\"accuracy\"])"
   ]
  },
  {
   "cell_type": "code",
   "execution_count": 28,
   "metadata": {},
   "outputs": [],
   "source": [
    "#Experiencia\n",
    "from tensorflow.keras import models\n",
    "from tensorflow.keras import layers\n",
    "\n",
    "r = models.Sequential()\n",
    "r.add(layers.Dense(64, activation=\"sigmoid\",input_shape=(11,)))\n",
    "r.add(layers.Dense(128, activation=\"sigmoid\"))\n",
    "\n",
    "r.add(layers.Dense(9, activation=\"softmax\"))\n",
    "\n",
    "r.compile(optimizer=\"rmsprop\",\n",
    "            loss=\"categorical_crossentropy\",\n",
    "            metrics=[\"accuracy\"])"
   ]
  },
  {
   "cell_type": "code",
   "execution_count": 29,
   "metadata": {},
   "outputs": [
    {
     "name": "stdout",
     "output_type": "stream",
     "text": [
      "Train on 1119 samples, validate on 479 samples\n",
      "Epoch 1/80\n",
      "1119/1119 [==============================] - 1s 671us/sample - loss: 1.7061 - accuracy: 0.3181 - val_loss: 1.3471 - val_accuracy: 0.3904\n",
      "Epoch 2/80\n",
      "1119/1119 [==============================] - 0s 31us/sample - loss: 1.2858 - accuracy: 0.4290 - val_loss: 1.2917 - val_accuracy: 0.3904\n",
      "Epoch 3/80\n",
      "1119/1119 [==============================] - 0s 36us/sample - loss: 1.2297 - accuracy: 0.4406 - val_loss: 1.2463 - val_accuracy: 0.3904\n",
      "Epoch 4/80\n",
      "1119/1119 [==============================] - 0s 35us/sample - loss: 1.2103 - accuracy: 0.4263 - val_loss: 1.2312 - val_accuracy: 0.3904\n",
      "Epoch 5/80\n",
      "1119/1119 [==============================] - 0s 35us/sample - loss: 1.1983 - accuracy: 0.4352 - val_loss: 1.2384 - val_accuracy: 0.3904\n",
      "Epoch 6/80\n",
      "1119/1119 [==============================] - 0s 33us/sample - loss: 1.1977 - accuracy: 0.4316 - val_loss: 1.2149 - val_accuracy: 0.3904\n",
      "Epoch 7/80\n",
      "1119/1119 [==============================] - 0s 33us/sample - loss: 1.1941 - accuracy: 0.3905 - val_loss: 1.2369 - val_accuracy: 0.3904\n",
      "Epoch 8/80\n",
      "1119/1119 [==============================] - 0s 32us/sample - loss: 1.1913 - accuracy: 0.4406 - val_loss: 1.2236 - val_accuracy: 0.3904\n",
      "Epoch 9/80\n",
      "1119/1119 [==============================] - 0s 37us/sample - loss: 1.1888 - accuracy: 0.4218 - val_loss: 1.1995 - val_accuracy: 0.3904\n",
      "Epoch 10/80\n",
      "1119/1119 [==============================] - 0s 33us/sample - loss: 1.1836 - accuracy: 0.4361 - val_loss: 1.2244 - val_accuracy: 0.3904\n",
      "Epoch 11/80\n",
      "1119/1119 [==============================] - 0s 30us/sample - loss: 1.1865 - accuracy: 0.4281 - val_loss: 1.1947 - val_accuracy: 0.3904\n",
      "Epoch 12/80\n",
      "1119/1119 [==============================] - 0s 37us/sample - loss: 1.1838 - accuracy: 0.4298 - val_loss: 1.2354 - val_accuracy: 0.3904\n",
      "Epoch 13/80\n",
      "1119/1119 [==============================] - 0s 34us/sample - loss: 1.1853 - accuracy: 0.4281 - val_loss: 1.1964 - val_accuracy: 0.3904\n",
      "Epoch 14/80\n",
      "1119/1119 [==============================] - 0s 40us/sample - loss: 1.1825 - accuracy: 0.4272 - val_loss: 1.2315 - val_accuracy: 0.3904\n",
      "Epoch 15/80\n",
      "1119/1119 [==============================] - 0s 42us/sample - loss: 1.1833 - accuracy: 0.4441 - val_loss: 1.2023 - val_accuracy: 0.4551\n",
      "Epoch 16/80\n",
      "1119/1119 [==============================] - 0s 32us/sample - loss: 1.1871 - accuracy: 0.4111 - val_loss: 1.1941 - val_accuracy: 0.4906\n",
      "Epoch 17/80\n",
      "1119/1119 [==============================] - 0s 32us/sample - loss: 1.1851 - accuracy: 0.4361 - val_loss: 1.2043 - val_accuracy: 0.3904\n",
      "Epoch 18/80\n",
      "1119/1119 [==============================] - 0s 33us/sample - loss: 1.1838 - accuracy: 0.4406 - val_loss: 1.2133 - val_accuracy: 0.3904\n",
      "Epoch 19/80\n",
      "1119/1119 [==============================] - 0s 32us/sample - loss: 1.1826 - accuracy: 0.4316 - val_loss: 1.2110 - val_accuracy: 0.3904\n",
      "Epoch 20/80\n",
      "1119/1119 [==============================] - 0s 39us/sample - loss: 1.1819 - accuracy: 0.4406 - val_loss: 1.2247 - val_accuracy: 0.3904\n",
      "Epoch 21/80\n",
      "1119/1119 [==============================] - 0s 34us/sample - loss: 1.1831 - accuracy: 0.4236 - val_loss: 1.2226 - val_accuracy: 0.3904\n",
      "Epoch 22/80\n",
      "1119/1119 [==============================] - 0s 37us/sample - loss: 1.1849 - accuracy: 0.4209 - val_loss: 1.2350 - val_accuracy: 0.3904\n",
      "Epoch 23/80\n",
      "1119/1119 [==============================] - 0s 37us/sample - loss: 1.1815 - accuracy: 0.4325 - val_loss: 1.2151 - val_accuracy: 0.3904\n",
      "Epoch 24/80\n",
      "1119/1119 [==============================] - 0s 34us/sample - loss: 1.1772 - accuracy: 0.4424 - val_loss: 1.2278 - val_accuracy: 0.3904\n",
      "Epoch 25/80\n",
      "1119/1119 [==============================] - 0s 33us/sample - loss: 1.1823 - accuracy: 0.4370 - val_loss: 1.1952 - val_accuracy: 0.3904\n",
      "Epoch 26/80\n",
      "1119/1119 [==============================] - 0s 37us/sample - loss: 1.1810 - accuracy: 0.4397 - val_loss: 1.2523 - val_accuracy: 0.3904\n",
      "Epoch 27/80\n",
      "1119/1119 [==============================] - 0s 33us/sample - loss: 1.1863 - accuracy: 0.4334 - val_loss: 1.2179 - val_accuracy: 0.3904\n",
      "Epoch 28/80\n",
      "1119/1119 [==============================] - 0s 31us/sample - loss: 1.1791 - accuracy: 0.4370 - val_loss: 1.2230 - val_accuracy: 0.3904\n",
      "Epoch 29/80\n",
      "1119/1119 [==============================] - 0s 33us/sample - loss: 1.1845 - accuracy: 0.4370 - val_loss: 1.2117 - val_accuracy: 0.3904\n",
      "Epoch 30/80\n",
      "1119/1119 [==============================] - 0s 34us/sample - loss: 1.1812 - accuracy: 0.4307 - val_loss: 1.2115 - val_accuracy: 0.3904\n",
      "Epoch 31/80\n",
      "1119/1119 [==============================] - 0s 34us/sample - loss: 1.1789 - accuracy: 0.4504 - val_loss: 1.2101 - val_accuracy: 0.3904\n",
      "Epoch 32/80\n",
      "1119/1119 [==============================] - 0s 32us/sample - loss: 1.1831 - accuracy: 0.4066 - val_loss: 1.2002 - val_accuracy: 0.3904\n",
      "Epoch 33/80\n",
      "1119/1119 [==============================] - 0s 32us/sample - loss: 1.1792 - accuracy: 0.4263 - val_loss: 1.2104 - val_accuracy: 0.3904\n",
      "Epoch 34/80\n",
      "1119/1119 [==============================] - 0s 37us/sample - loss: 1.1808 - accuracy: 0.4415 - val_loss: 1.2002 - val_accuracy: 0.3904\n",
      "Epoch 35/80\n",
      "1119/1119 [==============================] - 0s 35us/sample - loss: 1.1770 - accuracy: 0.4415 - val_loss: 1.2012 - val_accuracy: 0.3904\n",
      "Epoch 36/80\n",
      "1119/1119 [==============================] - 0s 32us/sample - loss: 1.1804 - accuracy: 0.4316 - val_loss: 1.1996 - val_accuracy: 0.3904\n",
      "Epoch 37/80\n",
      "1119/1119 [==============================] - 0s 35us/sample - loss: 1.1818 - accuracy: 0.4272 - val_loss: 1.1958 - val_accuracy: 0.4050\n",
      "Epoch 38/80\n",
      "1119/1119 [==============================] - 0s 30us/sample - loss: 1.1790 - accuracy: 0.4352 - val_loss: 1.1892 - val_accuracy: 0.4447\n",
      "Epoch 39/80\n",
      "1119/1119 [==============================] - 0s 32us/sample - loss: 1.1783 - accuracy: 0.4468 - val_loss: 1.1979 - val_accuracy: 0.3904\n",
      "Epoch 40/80\n",
      "1119/1119 [==============================] - 0s 31us/sample - loss: 1.1749 - accuracy: 0.4549 - val_loss: 1.2276 - val_accuracy: 0.3904\n",
      "Epoch 41/80\n",
      "1119/1119 [==============================] - 0s 30us/sample - loss: 1.1802 - accuracy: 0.4298 - val_loss: 1.1991 - val_accuracy: 0.3904\n",
      "Epoch 42/80\n",
      "1119/1119 [==============================] - 0s 30us/sample - loss: 1.1772 - accuracy: 0.4325 - val_loss: 1.1896 - val_accuracy: 0.4823\n",
      "Epoch 43/80\n",
      "1119/1119 [==============================] - 0s 29us/sample - loss: 1.1747 - accuracy: 0.4513 - val_loss: 1.2140 - val_accuracy: 0.3904\n",
      "Epoch 44/80\n",
      "1119/1119 [==============================] - 0s 32us/sample - loss: 1.1785 - accuracy: 0.4397 - val_loss: 1.2116 - val_accuracy: 0.3904\n",
      "Epoch 45/80\n",
      "1119/1119 [==============================] - 0s 94us/sample - loss: 1.1753 - accuracy: 0.4379 - val_loss: 1.1953 - val_accuracy: 0.3904\n",
      "Epoch 46/80\n",
      "1119/1119 [==============================] - 0s 53us/sample - loss: 1.1798 - accuracy: 0.4155 - val_loss: 1.1971 - val_accuracy: 0.3904\n",
      "Epoch 47/80\n",
      "1119/1119 [==============================] - 0s 59us/sample - loss: 1.1736 - accuracy: 0.4495 - val_loss: 1.2017 - val_accuracy: 0.3904\n",
      "Epoch 48/80\n",
      "1119/1119 [==============================] - 0s 37us/sample - loss: 1.1747 - accuracy: 0.4379 - val_loss: 1.2076 - val_accuracy: 0.4885\n",
      "Epoch 49/80\n",
      "1119/1119 [==============================] - 0s 39us/sample - loss: 1.1762 - accuracy: 0.4406 - val_loss: 1.1919 - val_accuracy: 0.4530\n",
      "Epoch 50/80\n",
      "1119/1119 [==============================] - 0s 33us/sample - loss: 1.1779 - accuracy: 0.4245 - val_loss: 1.2059 - val_accuracy: 0.3904\n",
      "Epoch 51/80\n",
      "1119/1119 [==============================] - 0s 32us/sample - loss: 1.1770 - accuracy: 0.4343 - val_loss: 1.2025 - val_accuracy: 0.3904\n",
      "Epoch 52/80\n",
      "1119/1119 [==============================] - 0s 29us/sample - loss: 1.1710 - accuracy: 0.4397 - val_loss: 1.1946 - val_accuracy: 0.3904\n",
      "Epoch 53/80\n",
      "1119/1119 [==============================] - 0s 29us/sample - loss: 1.1767 - accuracy: 0.4316 - val_loss: 1.2367 - val_accuracy: 0.3904\n",
      "Epoch 54/80\n",
      "1119/1119 [==============================] - 0s 34us/sample - loss: 1.1717 - accuracy: 0.4540 - val_loss: 1.2060 - val_accuracy: 0.3883\n",
      "Epoch 55/80\n",
      "1119/1119 [==============================] - 0s 35us/sample - loss: 1.1767 - accuracy: 0.4397 - val_loss: 1.1952 - val_accuracy: 0.3862\n",
      "Epoch 56/80\n"
     ]
    },
    {
     "name": "stdout",
     "output_type": "stream",
     "text": [
      "1119/1119 [==============================] - 0s 31us/sample - loss: 1.1714 - accuracy: 0.4397 - val_loss: 1.2062 - val_accuracy: 0.3904\n",
      "Epoch 57/80\n",
      "1119/1119 [==============================] - 0s 31us/sample - loss: 1.1718 - accuracy: 0.4433 - val_loss: 1.1967 - val_accuracy: 0.4906\n",
      "Epoch 58/80\n",
      "1119/1119 [==============================] - 0s 33us/sample - loss: 1.1779 - accuracy: 0.4236 - val_loss: 1.1920 - val_accuracy: 0.4823\n",
      "Epoch 59/80\n",
      "1119/1119 [==============================] - 0s 29us/sample - loss: 1.1713 - accuracy: 0.4298 - val_loss: 1.1896 - val_accuracy: 0.4969\n",
      "Epoch 60/80\n",
      "1119/1119 [==============================] - 0s 29us/sample - loss: 1.1698 - accuracy: 0.4522 - val_loss: 1.1924 - val_accuracy: 0.4885\n",
      "Epoch 61/80\n",
      "1119/1119 [==============================] - 0s 31us/sample - loss: 1.1724 - accuracy: 0.4298 - val_loss: 1.1873 - val_accuracy: 0.4781\n",
      "Epoch 62/80\n",
      "1119/1119 [==============================] - 0s 31us/sample - loss: 1.1739 - accuracy: 0.4459 - val_loss: 1.1874 - val_accuracy: 0.4092\n",
      "Epoch 63/80\n",
      "1119/1119 [==============================] - 0s 30us/sample - loss: 1.1699 - accuracy: 0.4656 - val_loss: 1.2113 - val_accuracy: 0.3904\n",
      "Epoch 64/80\n",
      "1119/1119 [==============================] - 0s 33us/sample - loss: 1.1682 - accuracy: 0.4450 - val_loss: 1.2093 - val_accuracy: 0.3904\n",
      "Epoch 65/80\n",
      "1119/1119 [==============================] - 0s 33us/sample - loss: 1.1717 - accuracy: 0.4486 - val_loss: 1.2107 - val_accuracy: 0.3904\n",
      "Epoch 66/80\n",
      "1119/1119 [==============================] - 0s 30us/sample - loss: 1.1691 - accuracy: 0.4406 - val_loss: 1.2229 - val_accuracy: 0.3904\n",
      "Epoch 67/80\n",
      "1119/1119 [==============================] - 0s 30us/sample - loss: 1.1728 - accuracy: 0.4433 - val_loss: 1.2145 - val_accuracy: 0.3904\n",
      "Epoch 68/80\n",
      "1119/1119 [==============================] - 0s 29us/sample - loss: 1.1694 - accuracy: 0.4415 - val_loss: 1.1883 - val_accuracy: 0.4948\n",
      "Epoch 69/80\n",
      "1119/1119 [==============================] - 0s 37us/sample - loss: 1.1710 - accuracy: 0.4683 - val_loss: 1.1860 - val_accuracy: 0.4530\n",
      "Epoch 70/80\n",
      "1119/1119 [==============================] - 0s 33us/sample - loss: 1.1666 - accuracy: 0.4567 - val_loss: 1.2109 - val_accuracy: 0.4113\n",
      "Epoch 71/80\n",
      "1119/1119 [==============================] - 0s 34us/sample - loss: 1.1659 - accuracy: 0.4531 - val_loss: 1.1829 - val_accuracy: 0.4509\n",
      "Epoch 72/80\n",
      "1119/1119 [==============================] - 0s 35us/sample - loss: 1.1642 - accuracy: 0.4522 - val_loss: 1.2271 - val_accuracy: 0.3904\n",
      "Epoch 73/80\n",
      "1119/1119 [==============================] - 0s 30us/sample - loss: 1.1658 - accuracy: 0.4674 - val_loss: 1.1872 - val_accuracy: 0.4823\n",
      "Epoch 74/80\n",
      "1119/1119 [==============================] - 0s 29us/sample - loss: 1.1668 - accuracy: 0.4584 - val_loss: 1.2057 - val_accuracy: 0.3904\n",
      "Epoch 75/80\n",
      "1119/1119 [==============================] - 0s 29us/sample - loss: 1.1653 - accuracy: 0.4477 - val_loss: 1.2051 - val_accuracy: 0.3904\n",
      "Epoch 76/80\n",
      "1119/1119 [==============================] - 0s 35us/sample - loss: 1.1666 - accuracy: 0.4567 - val_loss: 1.2088 - val_accuracy: 0.3987\n",
      "Epoch 77/80\n",
      "1119/1119 [==============================] - 0s 30us/sample - loss: 1.1606 - accuracy: 0.4701 - val_loss: 1.2197 - val_accuracy: 0.3904\n",
      "Epoch 78/80\n",
      "1119/1119 [==============================] - 0s 29us/sample - loss: 1.1652 - accuracy: 0.4602 - val_loss: 1.1901 - val_accuracy: 0.4113\n",
      "Epoch 79/80\n",
      "1119/1119 [==============================] - 0s 29us/sample - loss: 1.1627 - accuracy: 0.4513 - val_loss: 1.2271 - val_accuracy: 0.3904\n",
      "Epoch 80/80\n",
      "1119/1119 [==============================] - 0s 29us/sample - loss: 1.1636 - accuracy: 0.4397 - val_loss: 1.1753 - val_accuracy: 0.4802\n"
     ]
    },
    {
     "data": {
      "text/plain": [
       "<tensorflow.python.keras.callbacks.History at 0x28ebba1a388>"
      ]
     },
     "execution_count": 29,
     "metadata": {},
     "output_type": "execute_result"
    }
   ],
   "source": [
    "#Treino de experiencia\n",
    "r.fit(x=d_treino,y=l_treino, epochs=80,validation_data=(d_test,l_test), batch_size=128)"
   ]
  },
  {
   "cell_type": "code",
   "execution_count": 30,
   "metadata": {},
   "outputs": [],
   "source": [
    "#Experiencia\n",
    "import matplotlib.pyplot as plt"
   ]
  },
  {
   "cell_type": "code",
   "execution_count": 31,
   "metadata": {},
   "outputs": [
    {
     "name": "stdout",
     "output_type": "stream",
     "text": [
      "dict_keys(['loss', 'accuracy', 'val_loss', 'val_accuracy'])\n"
     ]
    },
    {
     "data": {
      "image/png": "[encoded data removed]",
      "text/plain": [
       "<Figure size 432x288 with 1 Axes>"
      ]
     },
     "metadata": {
      "needs_background": "light"
     },
     "output_type": "display_data"
    }
   ],
   "source": [
    "print(r.history.history.keys())\n",
    "plt.plot(r.history.history['accuracy'],label = 'train accuracy')\n",
    "plt.plot(r.history.history['val_accuracy'],label = 'val_accuracy')\n",
    "plt.title('Train vs val')\n",
    "plt.ylabel('Accuracy')\n",
    "plt.xlabel('epoch')\n",
    "plt.legend(['train', 'test'], loc='upper left')\n",
    "#plt.savefig(dire+'/Loss.png')\n",
    "plt.show()"
   ]
  },
  {
   "cell_type": "code",
   "execution_count": 27,
   "metadata": {},
   "outputs": [
    {
     "name": "stdout",
     "output_type": "stream",
     "text": [
      "Train on 1119 samples, validate on 479 samples\n",
      "Epoch 1/80\n",
      "1119/1119 [==============================] - 1s 1ms/sample - loss: 1.9755 - accuracy: 0.5121 - val_loss: 1.9419 - val_accuracy: 0.5261\n",
      "Epoch 2/80\n",
      "1119/1119 [==============================] - 0s 51us/sample - loss: 1.9411 - accuracy: 0.5478 - val_loss: 1.9313 - val_accuracy: 0.4948\n",
      "Epoch 3/80\n",
      "1119/1119 [==============================] - 0s 48us/sample - loss: 1.9153 - accuracy: 0.5174 - val_loss: 1.9281 - val_accuracy: 0.4593\n",
      "Epoch 4/80\n",
      "1119/1119 [==============================] - 0s 54us/sample - loss: 1.8486 - accuracy: 0.5621 - val_loss: 1.8295 - val_accuracy: 0.4509\n",
      "Epoch 5/80\n",
      "1119/1119 [==============================] - 0s 62us/sample - loss: 1.8075 - accuracy: 0.5299 - val_loss: 1.8051 - val_accuracy: 0.4447\n",
      "Epoch 6/80\n",
      "1119/1119 [==============================] - 0s 58us/sample - loss: 1.8019 - accuracy: 0.4826 - val_loss: 1.7948 - val_accuracy: 0.3967\n",
      "Epoch 7/80\n",
      "1119/1119 [==============================] - 0s 55us/sample - loss: 1.7872 - accuracy: 0.4736 - val_loss: 1.7801 - val_accuracy: 0.3883\n",
      "Epoch 8/80\n",
      "1119/1119 [==============================] - 0s 53us/sample - loss: 1.7544 - accuracy: 0.4897 - val_loss: 1.8120 - val_accuracy: 0.4280\n",
      "Epoch 9/80\n",
      "1119/1119 [==============================] - 0s 53us/sample - loss: 1.7490 - accuracy: 0.4996 - val_loss: 1.7632 - val_accuracy: 0.4697\n",
      "Epoch 10/80\n",
      "1119/1119 [==============================] - 0s 54us/sample - loss: 1.7287 - accuracy: 0.4897 - val_loss: 1.7182 - val_accuracy: 0.5094\n",
      "Epoch 11/80\n",
      "1119/1119 [==============================] - 0s 52us/sample - loss: 1.7100 - accuracy: 0.5139 - val_loss: 1.7458 - val_accuracy: 0.4948\n",
      "Epoch 12/80\n",
      "1119/1119 [==============================] - 0s 52us/sample - loss: 1.6928 - accuracy: 0.5264 - val_loss: 1.6920 - val_accuracy: 0.4572\n",
      "Epoch 13/80\n",
      "1119/1119 [==============================] - 0s 53us/sample - loss: 1.6758 - accuracy: 0.5022 - val_loss: 1.8004 - val_accuracy: 0.3633\n",
      "Epoch 14/80\n",
      "1119/1119 [==============================] - 0s 48us/sample - loss: 1.6686 - accuracy: 0.5103 - val_loss: 1.6707 - val_accuracy: 0.4175\n",
      "Epoch 15/80\n",
      "1119/1119 [==============================] - 0s 50us/sample - loss: 1.6535 - accuracy: 0.4987 - val_loss: 1.6529 - val_accuracy: 0.4363\n",
      "Epoch 16/80\n",
      "1119/1119 [==============================] - 0s 52us/sample - loss: 1.6366 - accuracy: 0.4969 - val_loss: 1.6336 - val_accuracy: 0.4823\n",
      "Epoch 17/80\n",
      "1119/1119 [==============================] - 0s 49us/sample - loss: 1.6103 - accuracy: 0.5326 - val_loss: 1.6455 - val_accuracy: 0.4697\n",
      "Epoch 18/80\n",
      "1119/1119 [==============================] - 0s 51us/sample - loss: 1.6013 - accuracy: 0.5147 - val_loss: 1.6070 - val_accuracy: 0.4614\n",
      "Epoch 19/80\n",
      "1119/1119 [==============================] - 0s 50us/sample - loss: 1.5895 - accuracy: 0.5183 - val_loss: 1.5878 - val_accuracy: 0.4906\n",
      "Epoch 20/80\n",
      "1119/1119 [==============================] - 0s 52us/sample - loss: 1.5631 - accuracy: 0.5424 - val_loss: 1.6925 - val_accuracy: 0.4092\n",
      "Epoch 21/80\n",
      "1119/1119 [==============================] - 0s 53us/sample - loss: 1.5658 - accuracy: 0.5085 - val_loss: 1.6293 - val_accuracy: 0.4593\n",
      "Epoch 22/80\n",
      "1119/1119 [==============================] - 0s 58us/sample - loss: 1.5600 - accuracy: 0.4942 - val_loss: 1.5553 - val_accuracy: 0.4551\n",
      "Epoch 23/80\n",
      "1119/1119 [==============================] - 0s 49us/sample - loss: 1.5389 - accuracy: 0.5255 - val_loss: 1.5565 - val_accuracy: 0.4906\n",
      "Epoch 24/80\n",
      "1119/1119 [==============================] - 0s 52us/sample - loss: 1.5195 - accuracy: 0.5219 - val_loss: 1.5742 - val_accuracy: 0.4676\n",
      "Epoch 25/80\n",
      "1119/1119 [==============================] - ETA: 0s - loss: 1.5017 - accuracy: 0.53 - 0s 56us/sample - loss: 1.5062 - accuracy: 0.5335 - val_loss: 1.5225 - val_accuracy: 0.4426\n",
      "Epoch 26/80\n",
      "1119/1119 [==============================] - 0s 53us/sample - loss: 1.4933 - accuracy: 0.5362 - val_loss: 1.5384 - val_accuracy: 0.4885\n",
      "Epoch 27/80\n",
      "1119/1119 [==============================] - 0s 58us/sample - loss: 1.4724 - accuracy: 0.5460 - val_loss: 1.4995 - val_accuracy: 0.5157\n",
      "Epoch 28/80\n",
      "1119/1119 [==============================] - 0s 55us/sample - loss: 1.4675 - accuracy: 0.5416 - val_loss: 1.4827 - val_accuracy: 0.4906\n",
      "Epoch 29/80\n",
      "1119/1119 [==============================] - 0s 57us/sample - loss: 1.4649 - accuracy: 0.5237 - val_loss: 1.4687 - val_accuracy: 0.5177\n",
      "Epoch 30/80\n",
      "1119/1119 [==============================] - 0s 51us/sample - loss: 1.4526 - accuracy: 0.5264 - val_loss: 1.4595 - val_accuracy: 0.4990\n",
      "Epoch 31/80\n",
      "1119/1119 [==============================] - 0s 52us/sample - loss: 1.4298 - accuracy: 0.5576 - val_loss: 1.4491 - val_accuracy: 0.4823\n",
      "Epoch 32/80\n",
      "1119/1119 [==============================] - 0s 55us/sample - loss: 1.4103 - accuracy: 0.5576 - val_loss: 1.4391 - val_accuracy: 0.4927\n",
      "Epoch 33/80\n",
      "1119/1119 [==============================] - 0s 47us/sample - loss: 1.4021 - accuracy: 0.5335 - val_loss: 1.4714 - val_accuracy: 0.4843\n",
      "Epoch 34/80\n",
      "1119/1119 [==============================] - 0s 48us/sample - loss: 1.4013 - accuracy: 0.5246 - val_loss: 1.4262 - val_accuracy: 0.4718\n",
      "Epoch 35/80\n",
      "1119/1119 [==============================] - 0s 55us/sample - loss: 1.3895 - accuracy: 0.5317 - val_loss: 1.4322 - val_accuracy: 0.4196\n",
      "Epoch 36/80\n",
      "1119/1119 [==============================] - 0s 59us/sample - loss: 1.3710 - accuracy: 0.5407 - val_loss: 1.4935 - val_accuracy: 0.4885\n",
      "Epoch 37/80\n",
      "1119/1119 [==============================] - 0s 55us/sample - loss: 1.3676 - accuracy: 0.5487 - val_loss: 1.3834 - val_accuracy: 0.5240\n",
      "Epoch 38/80\n",
      "1119/1119 [==============================] - 0s 52us/sample - loss: 1.3564 - accuracy: 0.5389 - val_loss: 1.5784 - val_accuracy: 0.3152\n",
      "Epoch 39/80\n",
      "1119/1119 [==============================] - 0s 55us/sample - loss: 1.3558 - accuracy: 0.5496 - val_loss: 1.3726 - val_accuracy: 0.5407\n",
      "Epoch 40/80\n",
      "1119/1119 [==============================] - 0s 47us/sample - loss: 1.3267 - accuracy: 0.5550 - val_loss: 1.3669 - val_accuracy: 0.4843\n",
      "Epoch 41/80\n",
      "1119/1119 [==============================] - 0s 53us/sample - loss: 1.3382 - accuracy: 0.5362 - val_loss: 1.3579 - val_accuracy: 0.4948\n",
      "Epoch 42/80\n",
      "1119/1119 [==============================] - 0s 49us/sample - loss: 1.3225 - accuracy: 0.5290 - val_loss: 1.3458 - val_accuracy: 0.5073\n",
      "Epoch 43/80\n",
      "1119/1119 [==============================] - 0s 47us/sample - loss: 1.3166 - accuracy: 0.5442 - val_loss: 1.3429 - val_accuracy: 0.5094\n",
      "Epoch 44/80\n",
      "1119/1119 [==============================] - 0s 53us/sample - loss: 1.3226 - accuracy: 0.5237 - val_loss: 1.3244 - val_accuracy: 0.5365\n",
      "Epoch 45/80\n",
      "1119/1119 [==============================] - 0s 52us/sample - loss: 1.2969 - accuracy: 0.5523 - val_loss: 1.3195 - val_accuracy: 0.5115\n",
      "Epoch 46/80\n",
      "1119/1119 [==============================] - 0s 47us/sample - loss: 1.2733 - accuracy: 0.5800 - val_loss: 1.3200 - val_accuracy: 0.5261\n",
      "Epoch 47/80\n",
      "1119/1119 [==============================] - 0s 47us/sample - loss: 1.2839 - accuracy: 0.5621 - val_loss: 1.3092 - val_accuracy: 0.5073\n",
      "Epoch 48/80\n",
      "1119/1119 [==============================] - 0s 48us/sample - loss: 1.2845 - accuracy: 0.5371 - val_loss: 1.3147 - val_accuracy: 0.4927\n",
      "Epoch 49/80\n",
      "1119/1119 [==============================] - 0s 46us/sample - loss: 1.2563 - accuracy: 0.5657 - val_loss: 1.2922 - val_accuracy: 0.5324\n",
      "Epoch 50/80\n",
      "1119/1119 [==============================] - 0s 48us/sample - loss: 1.2665 - accuracy: 0.5514 - val_loss: 1.3334 - val_accuracy: 0.4154\n",
      "Epoch 51/80\n",
      "1119/1119 [==============================] - 0s 46us/sample - loss: 1.2629 - accuracy: 0.5416 - val_loss: 1.2881 - val_accuracy: 0.5324\n",
      "Epoch 52/80\n",
      "1119/1119 [==============================] - 0s 47us/sample - loss: 1.2455 - accuracy: 0.5603 - val_loss: 1.3069 - val_accuracy: 0.5386\n",
      "Epoch 53/80\n",
      "1119/1119 [==============================] - 0s 50us/sample - loss: 1.2445 - accuracy: 0.5433 - val_loss: 1.2925 - val_accuracy: 0.4614\n",
      "Epoch 54/80\n",
      "1119/1119 [==============================] - 0s 47us/sample - loss: 1.2226 - accuracy: 0.5550 - val_loss: 1.2941 - val_accuracy: 0.4906\n",
      "Epoch 55/80\n",
      "1119/1119 [==============================] - 0s 50us/sample - loss: 1.2235 - accuracy: 0.5675 - val_loss: 1.2549 - val_accuracy: 0.5324\n"
     ]
    },
    {
     "name": "stdout",
     "output_type": "stream",
     "text": [
      "Epoch 56/80\n",
      "1119/1119 [==============================] - 0s 50us/sample - loss: 1.2336 - accuracy: 0.5478 - val_loss: 1.2899 - val_accuracy: 0.5470\n",
      "Epoch 57/80\n",
      "1119/1119 [==============================] - 0s 46us/sample - loss: 1.2262 - accuracy: 0.5505 - val_loss: 1.2543 - val_accuracy: 0.5219\n",
      "Epoch 58/80\n",
      "1119/1119 [==============================] - 0s 53us/sample - loss: 1.2096 - accuracy: 0.5621 - val_loss: 1.2578 - val_accuracy: 0.5261\n",
      "Epoch 59/80\n",
      "1119/1119 [==============================] - 0s 49us/sample - loss: 1.2035 - accuracy: 0.5514 - val_loss: 1.2664 - val_accuracy: 0.5073\n",
      "Epoch 60/80\n",
      "1119/1119 [==============================] - 0s 51us/sample - loss: 1.1948 - accuracy: 0.5684 - val_loss: 1.4213 - val_accuracy: 0.3695\n",
      "Epoch 61/80\n",
      "1119/1119 [==============================] - 0s 49us/sample - loss: 1.2022 - accuracy: 0.5523 - val_loss: 1.2295 - val_accuracy: 0.5198\n",
      "Epoch 62/80\n",
      "1119/1119 [==============================] - 0s 53us/sample - loss: 1.1895 - accuracy: 0.5603 - val_loss: 1.2576 - val_accuracy: 0.5219\n",
      "Epoch 63/80\n",
      "1119/1119 [==============================] - 0s 53us/sample - loss: 1.1677 - accuracy: 0.5943 - val_loss: 1.2552 - val_accuracy: 0.5365\n",
      "Epoch 64/80\n",
      "1119/1119 [==============================] - 0s 53us/sample - loss: 1.1713 - accuracy: 0.5675 - val_loss: 1.3143 - val_accuracy: 0.4551\n",
      "Epoch 65/80\n",
      "1119/1119 [==============================] - 0s 55us/sample - loss: 1.1905 - accuracy: 0.5523 - val_loss: 1.2414 - val_accuracy: 0.4823\n",
      "Epoch 66/80\n",
      "1119/1119 [==============================] - 0s 49us/sample - loss: 1.1596 - accuracy: 0.5719 - val_loss: 1.2688 - val_accuracy: 0.5094\n",
      "Epoch 67/80\n",
      "1119/1119 [==============================] - 0s 53us/sample - loss: 1.1600 - accuracy: 0.5791 - val_loss: 1.2232 - val_accuracy: 0.5177\n",
      "Epoch 68/80\n",
      "1119/1119 [==============================] - 0s 53us/sample - loss: 1.1716 - accuracy: 0.5478 - val_loss: 1.2216 - val_accuracy: 0.5052\n",
      "Epoch 69/80\n",
      "1119/1119 [==============================] - 0s 51us/sample - loss: 1.1565 - accuracy: 0.5621 - val_loss: 1.2497 - val_accuracy: 0.5073\n",
      "Epoch 70/80\n",
      "1119/1119 [==============================] - 0s 56us/sample - loss: 1.1431 - accuracy: 0.5836 - val_loss: 1.2193 - val_accuracy: 0.4969\n",
      "Epoch 71/80\n",
      "1119/1119 [==============================] - 0s 53us/sample - loss: 1.1269 - accuracy: 0.5755 - val_loss: 1.2046 - val_accuracy: 0.4990\n",
      "Epoch 72/80\n",
      "1119/1119 [==============================] - 0s 50us/sample - loss: 1.1534 - accuracy: 0.5603 - val_loss: 1.1917 - val_accuracy: 0.5219\n",
      "Epoch 73/80\n",
      "1119/1119 [==============================] - 0s 54us/sample - loss: 1.1423 - accuracy: 0.5621 - val_loss: 1.1864 - val_accuracy: 0.5365\n",
      "Epoch 74/80\n",
      "1119/1119 [==============================] - 0s 50us/sample - loss: 1.1409 - accuracy: 0.5630 - val_loss: 1.1831 - val_accuracy: 0.5407\n",
      "Epoch 75/80\n",
      "1119/1119 [==============================] - 0s 53us/sample - loss: 1.1245 - accuracy: 0.5719 - val_loss: 1.2342 - val_accuracy: 0.5177\n",
      "Epoch 76/80\n",
      "1119/1119 [==============================] - 0s 53us/sample - loss: 1.1363 - accuracy: 0.5567 - val_loss: 1.1821 - val_accuracy: 0.5324\n",
      "Epoch 77/80\n",
      "1119/1119 [==============================] - 0s 49us/sample - loss: 1.0961 - accuracy: 0.5979 - val_loss: 1.1734 - val_accuracy: 0.5407\n",
      "Epoch 78/80\n",
      "1119/1119 [==============================] - 0s 53us/sample - loss: 1.1438 - accuracy: 0.5648 - val_loss: 1.1709 - val_accuracy: 0.5616\n",
      "Epoch 79/80\n",
      "1119/1119 [==============================] - 0s 57us/sample - loss: 1.1098 - accuracy: 0.5719 - val_loss: 1.2155 - val_accuracy: 0.4781\n",
      "Epoch 80/80\n",
      "1119/1119 [==============================] - 0s 57us/sample - loss: 1.1224 - accuracy: 0.5666 - val_loss: 1.2238 - val_accuracy: 0.5136\n"
     ]
    },
    {
     "data": {
      "text/plain": [
       "<tensorflow.python.keras.callbacks.History at 0x28eb8087088>"
      ]
     },
     "execution_count": 27,
     "metadata": {},
     "output_type": "execute_result"
    }
   ],
   "source": [
    "#Treino\n",
    "rede.fit(x=d_treino,y=l_treino, epochs=80,validation_data=(d_test,l_test), batch_size=128)"
   ]
  },
  {
   "cell_type": "code",
   "execution_count": 20,
   "metadata": {},
   "outputs": [],
   "source": [
    "import matplotlib.pyplot as plt"
   ]
  },
  {
   "cell_type": "code",
   "execution_count": 21,
   "metadata": {},
   "outputs": [
    {
     "name": "stdout",
     "output_type": "stream",
     "text": [
      "dict_keys(['loss', 'accuracy', 'val_loss', 'val_accuracy'])\n"
     ]
    },
    {
     "data": {
      "image/png": "[encoded data removed]",
      "text/plain": [
       "<Figure size 432x288 with 1 Axes>"
      ]
     },
     "metadata": {
      "needs_background": "light"
     },
     "output_type": "display_data"
    }
   ],
   "source": [
    "print(rede.history.history.keys())\n",
    "plt.plot(rede.history.history['accuracy'],label = 'train accuracy')\n",
    "plt.plot(rede.history.history['val_accuracy'],label = 'val_accuracy')\n",
    "plt.title('Train vs val')\n",
    "plt.ylabel('Accuracy')\n",
    "plt.xlabel('epoch')\n",
    "plt.legend(['train', 'test'], loc='upper left')\n",
    "#plt.savefig(dire+'/Loss.png')\n",
    "plt.show()"
   ]
  },
  {
   "cell_type": "code",
   "execution_count": 18,
   "metadata": {},
   "outputs": [
    {
     "ename": "SyntaxError",
     "evalue": "invalid syntax (<ipython-input-18-fbf6b4949690>, line 3)",
     "output_type": "error",
     "traceback": [
      "\u001b[1;36m  File \u001b[1;32m\"<ipython-input-18-fbf6b4949690>\"\u001b[1;36m, line \u001b[1;32m3\u001b[0m\n\u001b[1;33m    prediction = rede.predict(np.reshape((d_test[i,]),(,11)))\u001b[0m\n\u001b[1;37m                                                       ^\u001b[0m\n\u001b[1;31mSyntaxError\u001b[0m\u001b[1;31m:\u001b[0m invalid syntax\n"
     ]
    }
   ],
   "source": [
    "print(d_test[0,].shape)\n",
    "for i in range(10):\n",
    "    prediction = rede.predict(np.reshape((d_test[i,]),(,11)))\n",
    "    print(prediction)"
   ]
  },
  {
   "cell_type": "code",
   "execution_count": 22,
   "metadata": {},
   "outputs": [],
   "source": [
    "predictions = rede.predict(d_test)"
   ]
  },
  {
   "cell_type": "code",
   "execution_count": 23,
   "metadata": {},
   "outputs": [
    {
     "data": {
      "text/plain": [
       "(9,)"
      ]
     },
     "execution_count": 23,
     "metadata": {},
     "output_type": "execute_result"
    }
   ],
   "source": [
    "#Calcula a probabilidade para cada classe\n",
    "predictions[0].shape"
   ]
  },
  {
   "cell_type": "code",
   "execution_count": 24,
   "metadata": {},
   "outputs": [
    {
     "data": {
      "text/plain": [
       "0.99999994"
      ]
     },
     "execution_count": 24,
     "metadata": {},
     "output_type": "execute_result"
    }
   ],
   "source": [
    "np.sum(predictions[0])"
   ]
  },
  {
   "cell_type": "code",
   "execution_count": 25,
   "metadata": {},
   "outputs": [
    {
     "data": {
      "text/plain": [
       "7"
      ]
     },
     "execution_count": 25,
     "metadata": {},
     "output_type": "execute_result"
    }
   ],
   "source": [
    "np.argmax(predictions[0])"
   ]
  },
  {
   "cell_type": "code",
   "execution_count": null,
   "metadata": {},
   "outputs": [],
   "source": []
  }
 ],
 "metadata": {
  "kernelspec": {
   "display_name": "Python 3",
   "language": "python",
   "name": "python3"
  },
  "language_info": {
   "codemirror_mode": {
    "name": "ipython",
    "version": 3
   },
   "file_extension": ".py",
   "mimetype": "text/x-python",
   "name": "python",
   "nbconvert_exporter": "python",
   "pygments_lexer": "ipython3",
   "version": "3.7.9"
  }
 },
 "nbformat": 4,
 "nbformat_minor": 4
}
