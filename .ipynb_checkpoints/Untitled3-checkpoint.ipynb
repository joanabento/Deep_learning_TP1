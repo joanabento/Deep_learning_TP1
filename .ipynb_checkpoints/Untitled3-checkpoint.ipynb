{
 "cells": [
  {
   "cell_type": "code",
   "execution_count": 1,
   "metadata": {},
   "outputs": [],
   "source": [
    "import numpy as np\n",
    "import pandas as pd\n",
    "import matplotlib.pyplot as plt"
   ]
  },
  {
   "cell_type": "code",
   "execution_count": 2,
   "metadata": {},
   "outputs": [],
   "source": [
    "#Ler os dados do dataset vinho tinto\n",
    "df_red = pd.read_csv('winequality-red.csv', encoding =\"UTF-8\", sep=';')\n",
    "\n",
    "#Ler os dados do dataset vinho branco\n",
    "df_white = pd.read_csv('winequality-white.csv', encoding =\"UTF-8\", sep=';')"
   ]
  },
  {
   "cell_type": "code",
   "execution_count": 3,
   "metadata": {},
   "outputs": [],
   "source": [
    "#Separar as entradas (com base em testes físico-químicos) da saída (com base em dados sensoriais)\n",
    "#labels = df_red[\"quality\"]\n",
    "#dados = df_red[{\"fixed acidity\", \"volatile acidity\", \"citric acid\", \"residual sugar\", \"chlorides\", \"free sulfur dioxide\", \"total sulfur dioxide\", \"density\",\"pH\", \"sulphates\", \"alcohol\"}]"
   ]
  },
  {
   "cell_type": "code",
   "execution_count": 15,
   "metadata": {},
   "outputs": [
    {
     "data": {
      "text/plain": [
       "array([5, 6, 7, 4, 8, 3])"
      ]
     },
     "execution_count": 15,
     "metadata": {},
     "output_type": "execute_result"
    }
   ],
   "source": [
    "df_red['quality'].unique()"
   ]
  },
  {
   "cell_type": "code",
   "execution_count": 5,
   "metadata": {},
   "outputs": [],
   "source": [
    "round(len(df_red)*0.3)\n",
    "df_red = np.asarray(df_red)"
   ]
  },
  {
   "cell_type": "code",
   "execution_count": 6,
   "metadata": {},
   "outputs": [],
   "source": [
    "#Dividir os dados em treino e em teste (70% para treino, 30% para teste)\n",
    "l_treino = df_red[:int(len(df_red)*0.7),-1] \n",
    "l_test = df_red[-int(len(df_red)*0.3):,-1]\n",
    "\n",
    "d_treino = df_red[:int(len(df_red)*0.7),:-1]\n",
    "d_test = df_red[-int(len(df_red)*0.3):,:-1]"
   ]
  },
  {
   "cell_type": "code",
   "execution_count": 7,
   "metadata": {},
   "outputs": [
    {
     "data": {
      "text/plain": [
       "(1119, 11)"
      ]
     },
     "execution_count": 7,
     "metadata": {},
     "output_type": "execute_result"
    }
   ],
   "source": [
    "d_treino.shape"
   ]
  },
  {
   "cell_type": "code",
   "execution_count": 8,
   "metadata": {},
   "outputs": [
    {
     "name": "stdout",
     "output_type": "stream",
     "text": [
      "(1119,)\n",
      "(479,)\n",
      "(1119, 11)\n",
      "(479, 11)\n",
      "1599\n",
      "1598\n"
     ]
    }
   ],
   "source": [
    "print(l_treino.shape)\n",
    "print(l_test.shape)\n",
    "print(d_treino.shape)\n",
    "print(d_test.shape)\n",
    "print(len(df_red))\n",
    "print(1119+479) "
   ]
  },
  {
   "cell_type": "code",
   "execution_count": 9,
   "metadata": {},
   "outputs": [
    {
     "name": "stdout",
     "output_type": "stream",
     "text": [
      "[[0.24778761 0.47933884 0.         ... 0.6637931  0.13772455 0.15384615]\n",
      " [0.28318584 0.62809917 0.         ... 0.39655172 0.20958084 0.21538462]\n",
      " [0.28318584 0.52892562 0.04       ... 0.44827586 0.19161677 0.21538462]\n",
      " ...\n",
      " [0.21238938 0.47107438 0.07       ... 0.55172414 0.16167665 0.44615385]\n",
      " [0.21238938 0.47107438 0.07       ... 0.55172414 0.16167665 0.44615385]\n",
      " [0.22123894 0.2231405  0.12       ... 0.48275862 0.11976048 0.75384615]]\n",
      "[[0.38157895 0.26760563 0.43589744 ... 0.28318584 0.36458333 0.83636364]\n",
      " [0.21052632 0.23943662 0.         ... 0.49557522 0.1875     0.69090909]\n",
      " [0.17105263 0.21830986 0.         ... 0.50442478 0.11458333 0.69090909]\n",
      " ...\n",
      " [0.17105263 0.24647887 0.16666667 ... 0.47787611 0.39583333 0.45454545]\n",
      " [0.11842105 0.3415493  0.15384615 ... 0.61061947 0.35416667 0.30909091]\n",
      " [0.13157895 0.1056338  0.6025641  ... 0.45132743 0.30208333 0.45454545]]\n"
     ]
    }
   ],
   "source": [
    "from sklearn.preprocessing import MinMaxScaler\n",
    "\n",
    "#Ajustar o formato dos dados à rede de entrada\n",
    "#d_treino = d_treino.astype(\"float32\")/255\n",
    "#d_test = d_test.astype(\"float32\")/255\n",
    "scaler = MinMaxScaler()\n",
    "d_treino = scaler.fit_transform(d_treino)\n",
    "d_test = scaler.fit_transform(d_test)\n",
    "print(d_treino)\n",
    "print(d_test)"
   ]
  },
  {
   "cell_type": "code",
   "execution_count": 10,
   "metadata": {},
   "outputs": [],
   "source": [
    "#Ajustar o formato dos dados à rede de saída\n",
    "from tensorflow.keras.utils import to_categorical\n",
    "\n",
    "l_treino = to_categorical(l_treino)\n",
    "l_test = to_categorical(l_test)"
   ]
  },
  {
   "cell_type": "code",
   "execution_count": 11,
   "metadata": {},
   "outputs": [
    {
     "name": "stdout",
     "output_type": "stream",
     "text": [
      "(1119, 11)\n"
     ]
    }
   ],
   "source": [
    "l_treino = np.asarray(l_treino)\n",
    "l_test = np.asarray(l_test)\n",
    "d_treino = np.asarray(d_treino)\n",
    "d_test = np.asarray(d_test)\n",
    "print(d_treino.shape)"
   ]
  },
  {
   "cell_type": "code",
   "execution_count": 12,
   "metadata": {},
   "outputs": [
    {
     "data": {
      "text/plain": [
       "(1119, 9)"
      ]
     },
     "execution_count": 12,
     "metadata": {},
     "output_type": "execute_result"
    }
   ],
   "source": [
    "l_treino.shape"
   ]
  },
  {
   "cell_type": "code",
   "execution_count": 13,
   "metadata": {},
   "outputs": [],
   "source": [
    "from tensorflow.keras import models\n",
    "from tensorflow.keras import layers\n",
    "\n",
    "rede = models.Sequential()\n",
    "rede.add(layers.Dense(64, activation=\"relu\",input_shape=(11,)))\n",
    "rede.add(layers.Dense(128, activation=\"relu\"))\n",
    "rede.add(layers.Dense(256, activation=\"relu\"))\n",
    "rede.add(layers.Dense(512, activation=\"relu\"))\n",
    "rede.add(layers.Dense(256, activation=\"relu\"))\n",
    "rede.add(layers.Dense(128, activation=\"relu\"))\n",
    "rede.add(layers.Dense(9, activation=\"sigmoid\"))\n",
    "\n",
    "rede.compile(optimizer=\"rmsprop\",\n",
    "            loss=\"binary_crossentropy\",\n",
    "            metrics=[\"accuracy\"])"
   ]
  },
  {
   "cell_type": "code",
   "execution_count": 14,
   "metadata": {},
   "outputs": [
    {
     "name": "stdout",
     "output_type": "stream",
     "text": [
      "Epoch 1/120\n",
      "9/9 [==============================] - 1s 151ms/step - loss: 0.3892 - accuracy: 0.2985 - val_loss: 0.2298 - val_accuracy: 0.4551\n",
      "Epoch 2/120\n",
      "9/9 [==============================] - 1s 86ms/step - loss: 0.2304 - accuracy: 0.3798 - val_loss: 0.2312 - val_accuracy: 0.3904\n",
      "Epoch 3/120\n",
      "9/9 [==============================] - 1s 95ms/step - loss: 0.2239 - accuracy: 0.4182 - val_loss: 0.2279 - val_accuracy: 0.3904\n",
      "Epoch 4/120\n",
      "9/9 [==============================] - 1s 72ms/step - loss: 0.2179 - accuracy: 0.4263 - val_loss: 0.2126 - val_accuracy: 0.5449\n",
      "Epoch 5/120\n",
      "9/9 [==============================] - 1s 65ms/step - loss: 0.2143 - accuracy: 0.4870 - val_loss: 0.2131 - val_accuracy: 0.5470\n",
      "Epoch 6/120\n",
      "9/9 [==============================] - 1s 65ms/step - loss: 0.1962 - accuracy: 0.5505 - val_loss: 0.2084 - val_accuracy: 0.5282\n",
      "Epoch 7/120\n",
      "9/9 [==============================] - 1s 91ms/step - loss: 0.2030 - accuracy: 0.5130 - val_loss: 0.2085 - val_accuracy: 0.5846\n",
      "Epoch 8/120\n",
      "9/9 [==============================] - 1s 70ms/step - loss: 0.1967 - accuracy: 0.5246 - val_loss: 0.2101 - val_accuracy: 0.5136\n",
      "Epoch 9/120\n",
      "9/9 [==============================] - 0s 50ms/step - loss: 0.1919 - accuracy: 0.5389 - val_loss: 0.2231 - val_accuracy: 0.4426\n",
      "Epoch 10/120\n",
      "9/9 [==============================] - 1s 110ms/step - loss: 0.1970 - accuracy: 0.5469 - val_loss: 0.2129 - val_accuracy: 0.5365\n",
      "Epoch 11/120\n",
      "9/9 [==============================] - 1s 77ms/step - loss: 0.1916 - accuracy: 0.5514 - val_loss: 0.2120 - val_accuracy: 0.4927\n",
      "Epoch 12/120\n",
      "9/9 [==============================] - 1s 112ms/step - loss: 0.1913 - accuracy: 0.5523 - val_loss: 0.2009 - val_accuracy: 0.6159\n",
      "Epoch 13/120\n",
      "9/9 [==============================] - 1s 107ms/step - loss: 0.1871 - accuracy: 0.5755 - val_loss: 0.2350 - val_accuracy: 0.5052\n",
      "Epoch 14/120\n",
      "9/9 [==============================] - 1s 106ms/step - loss: 0.1885 - accuracy: 0.5469 - val_loss: 0.2512 - val_accuracy: 0.3048\n",
      "Epoch 15/120\n",
      "9/9 [==============================] - 1s 86ms/step - loss: 0.1905 - accuracy: 0.5487 - val_loss: 0.2150 - val_accuracy: 0.4614\n",
      "Epoch 16/120\n",
      "9/9 [==============================] - 1s 75ms/step - loss: 0.1817 - accuracy: 0.5648 - val_loss: 0.2028 - val_accuracy: 0.5491\n",
      "Epoch 17/120\n",
      "9/9 [==============================] - 1s 74ms/step - loss: 0.1840 - accuracy: 0.5576 - val_loss: 0.2023 - val_accuracy: 0.6367\n",
      "Epoch 18/120\n",
      "9/9 [==============================] - 1s 102ms/step - loss: 0.1838 - accuracy: 0.5532 - val_loss: 0.2095 - val_accuracy: 0.4906\n",
      "Epoch 19/120\n",
      "9/9 [==============================] - 1s 84ms/step - loss: 0.1816 - accuracy: 0.5898 - val_loss: 0.2136 - val_accuracy: 0.4885\n",
      "Epoch 20/120\n",
      "9/9 [==============================] - 1s 114ms/step - loss: 0.1818 - accuracy: 0.5836 - val_loss: 0.2060 - val_accuracy: 0.5846\n",
      "Epoch 21/120\n",
      "9/9 [==============================] - 1s 77ms/step - loss: 0.1841 - accuracy: 0.5719 - val_loss: 0.2119 - val_accuracy: 0.5073\n",
      "Epoch 22/120\n",
      "9/9 [==============================] - 1s 64ms/step - loss: 0.1795 - accuracy: 0.5925 - val_loss: 0.2061 - val_accuracy: 0.5804\n",
      "Epoch 23/120\n",
      "9/9 [==============================] - 1s 63ms/step - loss: 0.1886 - accuracy: 0.5675 - val_loss: 0.2052 - val_accuracy: 0.5365\n",
      "Epoch 24/120\n",
      "9/9 [==============================] - 1s 98ms/step - loss: 0.1789 - accuracy: 0.5907 - val_loss: 0.2084 - val_accuracy: 0.5177\n",
      "Epoch 25/120\n",
      "9/9 [==============================] - 1s 73ms/step - loss: 0.1821 - accuracy: 0.5845 - val_loss: 0.2047 - val_accuracy: 0.5720\n",
      "Epoch 26/120\n",
      "9/9 [==============================] - 1s 78ms/step - loss: 0.1840 - accuracy: 0.5621 - val_loss: 0.1985 - val_accuracy: 0.5825\n",
      "Epoch 27/120\n",
      "9/9 [==============================] - 1s 97ms/step - loss: 0.1783 - accuracy: 0.5925 - val_loss: 0.2093 - val_accuracy: 0.5282\n",
      "Epoch 28/120\n",
      "9/9 [==============================] - 1s 70ms/step - loss: 0.1776 - accuracy: 0.6050 - val_loss: 0.1953 - val_accuracy: 0.6263\n",
      "Epoch 29/120\n",
      "9/9 [==============================] - 1s 78ms/step - loss: 0.1791 - accuracy: 0.6005 - val_loss: 0.2217 - val_accuracy: 0.4864\n",
      "Epoch 30/120\n",
      "9/9 [==============================] - 1s 94ms/step - loss: 0.1830 - accuracy: 0.5871 - val_loss: 0.2078 - val_accuracy: 0.5470\n",
      "Epoch 31/120\n",
      "9/9 [==============================] - 1s 69ms/step - loss: 0.1798 - accuracy: 0.6014 - val_loss: 0.2064 - val_accuracy: 0.5261\n",
      "Epoch 32/120\n",
      "9/9 [==============================] - 1s 87ms/step - loss: 0.1730 - accuracy: 0.6175 - val_loss: 0.2015 - val_accuracy: 0.5699\n",
      "Epoch 33/120\n",
      "9/9 [==============================] - 1s 61ms/step - loss: 0.1803 - accuracy: 0.5979 - val_loss: 0.2081 - val_accuracy: 0.5887\n",
      "Epoch 34/120\n",
      "9/9 [==============================] - 1s 63ms/step - loss: 0.1794 - accuracy: 0.5987 - val_loss: 0.2073 - val_accuracy: 0.5261\n",
      "Epoch 35/120\n",
      "9/9 [==============================] - 1s 70ms/step - loss: 0.1778 - accuracy: 0.6148 - val_loss: 0.2067 - val_accuracy: 0.5532\n",
      "Epoch 36/120\n",
      "9/9 [==============================] - 1s 69ms/step - loss: 0.1724 - accuracy: 0.6265 - val_loss: 0.2004 - val_accuracy: 0.6075\n",
      "Epoch 37/120\n",
      "9/9 [==============================] - 1s 77ms/step - loss: 0.1732 - accuracy: 0.6175 - val_loss: 0.2009 - val_accuracy: 0.6096\n",
      "Epoch 38/120\n",
      "9/9 [==============================] - 1s 90ms/step - loss: 0.1760 - accuracy: 0.6059 - val_loss: 0.2203 - val_accuracy: 0.5177\n",
      "Epoch 39/120\n",
      "9/9 [==============================] - 1s 82ms/step - loss: 0.1743 - accuracy: 0.6130 - val_loss: 0.2174 - val_accuracy: 0.5261\n",
      "Epoch 40/120\n",
      "9/9 [==============================] - 1s 91ms/step - loss: 0.1745 - accuracy: 0.6032 - val_loss: 0.2177 - val_accuracy: 0.5324\n",
      "Epoch 41/120\n",
      "9/9 [==============================] - 1s 70ms/step - loss: 0.1768 - accuracy: 0.6068 - val_loss: 0.2220 - val_accuracy: 0.5386\n",
      "Epoch 42/120\n",
      "9/9 [==============================] - 1s 71ms/step - loss: 0.1704 - accuracy: 0.6291 - val_loss: 0.2032 - val_accuracy: 0.5846\n",
      "Epoch 43/120\n",
      "9/9 [==============================] - 1s 72ms/step - loss: 0.1731 - accuracy: 0.6265 - val_loss: 0.2066 - val_accuracy: 0.5637\n",
      "Epoch 44/120\n",
      "9/9 [==============================] - 1s 74ms/step - loss: 0.1708 - accuracy: 0.6229 - val_loss: 0.2065 - val_accuracy: 0.5595\n",
      "Epoch 45/120\n",
      "9/9 [==============================] - 1s 109ms/step - loss: 0.1695 - accuracy: 0.6416 - val_loss: 0.2310 - val_accuracy: 0.4969\n",
      "Epoch 46/120\n",
      "9/9 [==============================] - 1s 66ms/step - loss: 0.1700 - accuracy: 0.6247 - val_loss: 0.2306 - val_accuracy: 0.5094\n",
      "Epoch 47/120\n",
      "9/9 [==============================] - 1s 85ms/step - loss: 0.1717 - accuracy: 0.6211 - val_loss: 0.2231 - val_accuracy: 0.5052\n",
      "Epoch 48/120\n",
      "9/9 [==============================] - 1s 89ms/step - loss: 0.1690 - accuracy: 0.6336 - val_loss: 0.2261 - val_accuracy: 0.5240\n",
      "Epoch 49/120\n",
      "9/9 [==============================] - 1s 113ms/step - loss: 0.1674 - accuracy: 0.6416 - val_loss: 0.2226 - val_accuracy: 0.5157\n",
      "Epoch 50/120\n",
      "9/9 [==============================] - 1s 92ms/step - loss: 0.1701 - accuracy: 0.6273 - val_loss: 0.2210 - val_accuracy: 0.5282\n",
      "Epoch 51/120\n",
      "9/9 [==============================] - 1s 89ms/step - loss: 0.1659 - accuracy: 0.6497 - val_loss: 0.2370 - val_accuracy: 0.4990\n",
      "Epoch 52/120\n",
      "9/9 [==============================] - 1s 94ms/step - loss: 0.1650 - accuracy: 0.6381 - val_loss: 0.2276 - val_accuracy: 0.5511\n",
      "Epoch 53/120\n",
      "9/9 [==============================] - 1s 86ms/step - loss: 0.1671 - accuracy: 0.6327 - val_loss: 0.2075 - val_accuracy: 0.5929\n",
      "Epoch 54/120\n",
      "9/9 [==============================] - 1s 73ms/step - loss: 0.1683 - accuracy: 0.6318 - val_loss: 0.2030 - val_accuracy: 0.5929\n",
      "Epoch 55/120\n",
      "9/9 [==============================] - 1s 74ms/step - loss: 0.1641 - accuracy: 0.6416 - val_loss: 0.2292 - val_accuracy: 0.5219\n",
      "Epoch 56/120\n",
      "9/9 [==============================] - 1s 86ms/step - loss: 0.1637 - accuracy: 0.6595 - val_loss: 0.2381 - val_accuracy: 0.5407\n",
      "Epoch 57/120\n",
      "9/9 [==============================] - 1s 83ms/step - loss: 0.1649 - accuracy: 0.6408 - val_loss: 0.2314 - val_accuracy: 0.5261\n",
      "Epoch 58/120\n",
      "9/9 [==============================] - 1s 89ms/step - loss: 0.1629 - accuracy: 0.6550 - val_loss: 0.2244 - val_accuracy: 0.5553\n",
      "Epoch 59/120\n"
     ]
    },
    {
     "name": "stdout",
     "output_type": "stream",
     "text": [
      "9/9 [==============================] - 1s 92ms/step - loss: 0.1600 - accuracy: 0.6711 - val_loss: 0.2124 - val_accuracy: 0.5407\n",
      "Epoch 60/120\n",
      "9/9 [==============================] - 1s 122ms/step - loss: 0.1588 - accuracy: 0.6515 - val_loss: 0.2256 - val_accuracy: 0.5553\n",
      "Epoch 61/120\n",
      "9/9 [==============================] - 1s 92ms/step - loss: 0.1619 - accuracy: 0.6434 - val_loss: 0.3065 - val_accuracy: 0.4301\n",
      "Epoch 62/120\n",
      "9/9 [==============================] - 1s 73ms/step - loss: 0.1639 - accuracy: 0.6488 - val_loss: 0.2395 - val_accuracy: 0.5073\n",
      "Epoch 63/120\n",
      "9/9 [==============================] - 1s 56ms/step - loss: 0.1588 - accuracy: 0.6479 - val_loss: 0.2488 - val_accuracy: 0.4697\n",
      "Epoch 64/120\n",
      "9/9 [==============================] - 1s 69ms/step - loss: 0.1609 - accuracy: 0.6488 - val_loss: 0.2175 - val_accuracy: 0.5616\n",
      "Epoch 65/120\n",
      "9/9 [==============================] - 1s 104ms/step - loss: 0.1591 - accuracy: 0.6676 - val_loss: 0.2435 - val_accuracy: 0.5219\n",
      "Epoch 66/120\n",
      "9/9 [==============================] - 1s 70ms/step - loss: 0.1594 - accuracy: 0.6622 - val_loss: 0.2332 - val_accuracy: 0.5031\n",
      "Epoch 67/120\n",
      "9/9 [==============================] - 1s 64ms/step - loss: 0.1541 - accuracy: 0.6631 - val_loss: 0.2338 - val_accuracy: 0.5198\n",
      "Epoch 68/120\n",
      "9/9 [==============================] - 1s 78ms/step - loss: 0.1546 - accuracy: 0.6801 - val_loss: 0.2764 - val_accuracy: 0.4802\n",
      "Epoch 69/120\n",
      "9/9 [==============================] - 1s 109ms/step - loss: 0.1565 - accuracy: 0.6640 - val_loss: 0.2286 - val_accuracy: 0.5344\n",
      "Epoch 70/120\n",
      "9/9 [==============================] - 1s 66ms/step - loss: 0.1520 - accuracy: 0.6685 - val_loss: 0.2220 - val_accuracy: 0.5365\n",
      "Epoch 71/120\n",
      "9/9 [==============================] - 1s 74ms/step - loss: 0.1489 - accuracy: 0.6828 - val_loss: 0.2232 - val_accuracy: 0.5637\n",
      "Epoch 72/120\n",
      "9/9 [==============================] - 1s 90ms/step - loss: 0.1538 - accuracy: 0.6676 - val_loss: 0.2631 - val_accuracy: 0.4509\n",
      "Epoch 73/120\n",
      "9/9 [==============================] - 1s 78ms/step - loss: 0.1555 - accuracy: 0.6720 - val_loss: 0.2381 - val_accuracy: 0.5136\n",
      "Epoch 74/120\n",
      "9/9 [==============================] - 1s 94ms/step - loss: 0.1497 - accuracy: 0.6792 - val_loss: 0.2517 - val_accuracy: 0.4906\n",
      "Epoch 75/120\n",
      "9/9 [==============================] - 1s 63ms/step - loss: 0.1467 - accuracy: 0.6917 - val_loss: 0.2567 - val_accuracy: 0.4781\n",
      "Epoch 76/120\n",
      "9/9 [==============================] - 1s 58ms/step - loss: 0.1538 - accuracy: 0.6819 - val_loss: 0.2340 - val_accuracy: 0.5658\n",
      "Epoch 77/120\n",
      "9/9 [==============================] - 0s 53ms/step - loss: 0.1500 - accuracy: 0.6702 - val_loss: 0.2639 - val_accuracy: 0.5136\n",
      "Epoch 78/120\n",
      "9/9 [==============================] - 1s 98ms/step - loss: 0.1474 - accuracy: 0.6899 - val_loss: 0.2497 - val_accuracy: 0.5157\n",
      "Epoch 79/120\n",
      "9/9 [==============================] - 1s 101ms/step - loss: 0.1431 - accuracy: 0.6997 - val_loss: 0.2688 - val_accuracy: 0.5052\n",
      "Epoch 80/120\n",
      "9/9 [==============================] - 1s 87ms/step - loss: 0.1532 - accuracy: 0.6738 - val_loss: 0.2485 - val_accuracy: 0.5240\n",
      "Epoch 81/120\n",
      "9/9 [==============================] - 1s 67ms/step - loss: 0.1406 - accuracy: 0.7015 - val_loss: 0.2884 - val_accuracy: 0.4760\n",
      "Epoch 82/120\n",
      "9/9 [==============================] - 1s 76ms/step - loss: 0.1450 - accuracy: 0.7033 - val_loss: 0.2366 - val_accuracy: 0.5365\n",
      "Epoch 83/120\n",
      "9/9 [==============================] - 1s 76ms/step - loss: 0.1481 - accuracy: 0.6854 - val_loss: 0.2431 - val_accuracy: 0.5282\n",
      "Epoch 84/120\n",
      "9/9 [==============================] - 1s 76ms/step - loss: 0.1416 - accuracy: 0.7113 - val_loss: 0.2741 - val_accuracy: 0.4990\n",
      "Epoch 85/120\n",
      "9/9 [==============================] - 1s 78ms/step - loss: 0.1422 - accuracy: 0.6872 - val_loss: 0.2595 - val_accuracy: 0.4697\n",
      "Epoch 86/120\n",
      "9/9 [==============================] - 1s 74ms/step - loss: 0.1346 - accuracy: 0.7203 - val_loss: 0.2463 - val_accuracy: 0.5386\n",
      "Epoch 87/120\n",
      "9/9 [==============================] - 1s 94ms/step - loss: 0.1497 - accuracy: 0.6845 - val_loss: 0.2524 - val_accuracy: 0.5344\n",
      "Epoch 88/120\n",
      "9/9 [==============================] - 1s 75ms/step - loss: 0.1363 - accuracy: 0.7149 - val_loss: 0.2523 - val_accuracy: 0.5470\n",
      "Epoch 89/120\n",
      "9/9 [==============================] - 1s 87ms/step - loss: 0.1329 - accuracy: 0.7283 - val_loss: 0.2415 - val_accuracy: 0.5386\n",
      "Epoch 90/120\n",
      "9/9 [==============================] - 1s 93ms/step - loss: 0.1444 - accuracy: 0.6801 - val_loss: 0.2672 - val_accuracy: 0.5240\n",
      "Epoch 91/120\n",
      "9/9 [==============================] - 1s 68ms/step - loss: 0.1307 - accuracy: 0.7399 - val_loss: 0.3228 - val_accuracy: 0.4196\n",
      "Epoch 92/120\n",
      "9/9 [==============================] - 1s 80ms/step - loss: 0.1342 - accuracy: 0.7337 - val_loss: 0.2794 - val_accuracy: 0.4614\n",
      "Epoch 93/120\n",
      "9/9 [==============================] - 1s 82ms/step - loss: 0.1361 - accuracy: 0.7301 - val_loss: 0.2787 - val_accuracy: 0.5219\n",
      "Epoch 94/120\n",
      "9/9 [==============================] - 1s 57ms/step - loss: 0.1378 - accuracy: 0.7105 - val_loss: 0.2849 - val_accuracy: 0.5031\n",
      "Epoch 95/120\n",
      "9/9 [==============================] - 1s 71ms/step - loss: 0.1336 - accuracy: 0.7167 - val_loss: 0.2559 - val_accuracy: 0.5804\n",
      "Epoch 96/120\n",
      "9/9 [==============================] - ETA: 0s - loss: 0.1254 - accuracy: 0.73 - 1s 94ms/step - loss: 0.1254 - accuracy: 0.7382 - val_loss: 0.2533 - val_accuracy: 0.5303\n",
      "Epoch 97/120\n",
      "9/9 [==============================] - 1s 71ms/step - loss: 0.1295 - accuracy: 0.7391 - val_loss: 0.3245 - val_accuracy: 0.4363\n",
      "Epoch 98/120\n",
      "9/9 [==============================] - 1s 83ms/step - loss: 0.1283 - accuracy: 0.7417 - val_loss: 0.3109 - val_accuracy: 0.4489\n",
      "Epoch 99/120\n",
      "9/9 [==============================] - 1s 88ms/step - loss: 0.1369 - accuracy: 0.7292 - val_loss: 0.2668 - val_accuracy: 0.5553\n",
      "Epoch 100/120\n",
      "9/9 [==============================] - 1s 88ms/step - loss: 0.1201 - accuracy: 0.7605 - val_loss: 0.2839 - val_accuracy: 0.5491\n",
      "Epoch 101/120\n",
      "9/9 [==============================] - 1s 71ms/step - loss: 0.1335 - accuracy: 0.7310 - val_loss: 0.2945 - val_accuracy: 0.5136\n",
      "Epoch 102/120\n",
      "9/9 [==============================] - 1s 77ms/step - loss: 0.1334 - accuracy: 0.7203 - val_loss: 0.2795 - val_accuracy: 0.5073\n",
      "Epoch 103/120\n",
      "9/9 [==============================] - 1s 64ms/step - loss: 0.1166 - accuracy: 0.7605 - val_loss: 0.2963 - val_accuracy: 0.4697\n",
      "Epoch 104/120\n",
      "9/9 [==============================] - 1s 77ms/step - loss: 0.1174 - accuracy: 0.7650 - val_loss: 0.3423 - val_accuracy: 0.4885\n",
      "Epoch 105/120\n",
      "9/9 [==============================] - 1s 79ms/step - loss: 0.1305 - accuracy: 0.7292 - val_loss: 0.3194 - val_accuracy: 0.4489\n",
      "Epoch 106/120\n",
      "9/9 [==============================] - 1s 64ms/step - loss: 0.1178 - accuracy: 0.7703 - val_loss: 0.2904 - val_accuracy: 0.5198\n",
      "Epoch 107/120\n",
      "9/9 [==============================] - 1s 66ms/step - loss: 0.1192 - accuracy: 0.7525 - val_loss: 0.2966 - val_accuracy: 0.4864\n",
      "Epoch 108/120\n",
      "9/9 [==============================] - 1s 76ms/step - loss: 0.1116 - accuracy: 0.7828 - val_loss: 0.3450 - val_accuracy: 0.4864\n",
      "Epoch 109/120\n",
      "9/9 [==============================] - 1s 65ms/step - loss: 0.1163 - accuracy: 0.7578 - val_loss: 0.3315 - val_accuracy: 0.5324\n",
      "Epoch 110/120\n",
      "9/9 [==============================] - 1s 66ms/step - loss: 0.1152 - accuracy: 0.7685 - val_loss: 0.3318 - val_accuracy: 0.4990\n",
      "Epoch 111/120\n",
      "9/9 [==============================] - 1s 77ms/step - loss: 0.1158 - accuracy: 0.7605 - val_loss: 0.3187 - val_accuracy: 0.5240\n",
      "Epoch 112/120\n",
      "9/9 [==============================] - 0s 52ms/step - loss: 0.1142 - accuracy: 0.7802 - val_loss: 0.3698 - val_accuracy: 0.4635\n",
      "Epoch 113/120\n",
      "9/9 [==============================] - 1s 74ms/step - loss: 0.1125 - accuracy: 0.7694 - val_loss: 0.3381 - val_accuracy: 0.5094\n",
      "Epoch 114/120\n",
      "9/9 [==============================] - 1s 75ms/step - loss: 0.1072 - accuracy: 0.7811 - val_loss: 0.3703 - val_accuracy: 0.3967\n",
      "Epoch 115/120\n",
      "9/9 [==============================] - 1s 87ms/step - loss: 0.1178 - accuracy: 0.7596 - val_loss: 0.3573 - val_accuracy: 0.5261\n",
      "Epoch 116/120\n",
      "9/9 [==============================] - 1s 94ms/step - loss: 0.1010 - accuracy: 0.7945 - val_loss: 0.3956 - val_accuracy: 0.5010\n"
     ]
    },
    {
     "name": "stdout",
     "output_type": "stream",
     "text": [
      "Epoch 117/120\n",
      "9/9 [==============================] - 0s 45ms/step - loss: 0.1108 - accuracy: 0.7784 - val_loss: 0.3646 - val_accuracy: 0.4280\n",
      "Epoch 118/120\n",
      "9/9 [==============================] - 1s 79ms/step - loss: 0.1060 - accuracy: 0.7927 - val_loss: 0.3792 - val_accuracy: 0.5010\n",
      "Epoch 119/120\n",
      "9/9 [==============================] - 1s 76ms/step - loss: 0.1036 - accuracy: 0.7909 - val_loss: 0.3850 - val_accuracy: 0.4864\n",
      "Epoch 120/120\n",
      "9/9 [==============================] - 1s 70ms/step - loss: 0.1153 - accuracy: 0.7578 - val_loss: 0.3357 - val_accuracy: 0.5616\n"
     ]
    },
    {
     "data": {
      "text/plain": [
       "<tensorflow.python.keras.callbacks.History at 0x7f720c030bb0>"
      ]
     },
     "execution_count": 14,
     "metadata": {},
     "output_type": "execute_result"
    }
   ],
   "source": [
    "#Treino de experiencia\n",
    "rede.fit(x=d_treino,y=l_treino, epochs=120,validation_data=(d_test,l_test), batch_size=128)"
   ]
  },
  {
   "cell_type": "code",
   "execution_count": 15,
   "metadata": {},
   "outputs": [],
   "source": [
    "#Experiencia\n"
   ]
  },
  {
   "cell_type": "code",
   "execution_count": 16,
   "metadata": {},
   "outputs": [
    {
     "name": "stdout",
     "output_type": "stream",
     "text": [
      "dict_keys(['loss', 'accuracy', 'val_loss', 'val_accuracy'])\n"
     ]
    },
    {
     "data": {
      "image/png": "[encoded data removed]",
      "text/plain": [
       "<Figure size 432x288 with 1 Axes>"
      ]
     },
     "metadata": {
      "needs_background": "light"
     },
     "output_type": "display_data"
    }
   ],
   "source": [
    "print(rede.history.history.keys())\n",
    "plt.plot(rede.history.history['accuracy'],label = 'train accuracy')\n",
    "plt.plot(rede.history.history['val_accuracy'],label = 'val_accuracy')\n",
    "plt.title('Train vs val')\n",
    "plt.ylabel('Accuracy')\n",
    "plt.xlabel('epoch')\n",
    "plt.legend(['train', 'test'], loc='upper left')\n",
    "#plt.savefig(dire+'/Loss.png')\n",
    "plt.show()"
   ]
  },
  {
   "cell_type": "code",
   "execution_count": 32,
   "metadata": {},
   "outputs": [],
   "source": [
    "from tensorflow.keras import regularizers\n",
    "r = models.Sequential()\n",
    "r.add(layers.Dense(64, activation=\"relu\",input_shape=(11,)))\n",
    "r.add(layers.Dense(128,kernel_regularizer=regularizers.l2(0.001), activation=\"relu\"))\n",
    "r.add(layers.Dense(256,kernel_regularizer=regularizers.l2(0.001), activation=\"relu\"))\n",
    "r.add(layers.Dropout(0.3))\n",
    "r.add(layers.Dense(128,kernel_regularizer=regularizers.l2(0.001), activation=\"relu\"))\n",
    "r.add(layers.Dense(9, activation=\"sigmoid\"))\n",
    "r.compile(optimizer=\"rmsprop\",\n",
    "            loss=\"binary_crossentropy\",\n",
    "            metrics=[\"accuracy\"])"
   ]
  },
  {
   "cell_type": "code",
   "execution_count": 33,
   "metadata": {},
   "outputs": [
    {
     "name": "stdout",
     "output_type": "stream",
     "text": [
      "Epoch 1/120\n",
      "9/9 [==============================] - 1s 92ms/step - loss: 0.8959 - accuracy: 0.3691 - val_loss: 0.6077 - val_accuracy: 0.4676\n",
      "Epoch 2/120\n",
      "9/9 [==============================] - 0s 41ms/step - loss: 0.5477 - accuracy: 0.4468 - val_loss: 0.5116 - val_accuracy: 0.3904\n",
      "Epoch 3/120\n",
      "9/9 [==============================] - 0s 49ms/step - loss: 0.4861 - accuracy: 0.4433 - val_loss: 0.4607 - val_accuracy: 0.4008\n",
      "Epoch 4/120\n",
      "9/9 [==============================] - 0s 43ms/step - loss: 0.4446 - accuracy: 0.4468 - val_loss: 0.4239 - val_accuracy: 0.5219\n",
      "Epoch 5/120\n",
      "9/9 [==============================] - 1s 68ms/step - loss: 0.4076 - accuracy: 0.4853 - val_loss: 0.3937 - val_accuracy: 0.5637\n",
      "Epoch 6/120\n",
      "9/9 [==============================] - 1s 60ms/step - loss: 0.3787 - accuracy: 0.4558 - val_loss: 0.3638 - val_accuracy: 0.5637\n",
      "Epoch 7/120\n",
      "9/9 [==============================] - 1s 59ms/step - loss: 0.3523 - accuracy: 0.4835 - val_loss: 0.3402 - val_accuracy: 0.5532\n",
      "Epoch 8/120\n",
      "9/9 [==============================] - 0s 48ms/step - loss: 0.3257 - accuracy: 0.5264 - val_loss: 0.3195 - val_accuracy: 0.5825\n",
      "Epoch 9/120\n",
      "9/9 [==============================] - 1s 71ms/step - loss: 0.3088 - accuracy: 0.5264 - val_loss: 0.3167 - val_accuracy: 0.5282\n",
      "Epoch 10/120\n",
      "9/9 [==============================] - 0s 47ms/step - loss: 0.2939 - accuracy: 0.5353 - val_loss: 0.3044 - val_accuracy: 0.5282\n",
      "Epoch 11/120\n",
      "9/9 [==============================] - 0s 31ms/step - loss: 0.2828 - accuracy: 0.5156 - val_loss: 0.2856 - val_accuracy: 0.5783\n",
      "Epoch 12/120\n",
      "9/9 [==============================] - 0s 39ms/step - loss: 0.2697 - accuracy: 0.5505 - val_loss: 0.2990 - val_accuracy: 0.4697\n",
      "Epoch 13/120\n",
      "9/9 [==============================] - 0s 40ms/step - loss: 0.2635 - accuracy: 0.5362 - val_loss: 0.2690 - val_accuracy: 0.5971\n",
      "Epoch 14/120\n",
      "9/9 [==============================] - 0s 25ms/step - loss: 0.2563 - accuracy: 0.5505 - val_loss: 0.2614 - val_accuracy: 0.5720\n",
      "Epoch 15/120\n",
      "9/9 [==============================] - 1s 65ms/step - loss: 0.2485 - accuracy: 0.5585 - val_loss: 0.2691 - val_accuracy: 0.5198\n",
      "Epoch 16/120\n",
      "9/9 [==============================] - 0s 54ms/step - loss: 0.2471 - accuracy: 0.5487 - val_loss: 0.2562 - val_accuracy: 0.5825\n",
      "Epoch 17/120\n",
      "9/9 [==============================] - 0s 43ms/step - loss: 0.2438 - accuracy: 0.5559 - val_loss: 0.2483 - val_accuracy: 0.5783\n",
      "Epoch 18/120\n",
      "9/9 [==============================] - 0s 47ms/step - loss: 0.2376 - accuracy: 0.5612 - val_loss: 0.2476 - val_accuracy: 0.5407\n",
      "Epoch 19/120\n",
      "9/9 [==============================] - 1s 59ms/step - loss: 0.2345 - accuracy: 0.5621 - val_loss: 0.2451 - val_accuracy: 0.5908\n",
      "Epoch 20/120\n",
      "9/9 [==============================] - 1s 63ms/step - loss: 0.2312 - accuracy: 0.5594 - val_loss: 0.2409 - val_accuracy: 0.5929\n",
      "Epoch 21/120\n",
      "9/9 [==============================] - 1s 56ms/step - loss: 0.2302 - accuracy: 0.5460 - val_loss: 0.2546 - val_accuracy: 0.4781\n",
      "Epoch 22/120\n",
      "9/9 [==============================] - 1s 59ms/step - loss: 0.2270 - accuracy: 0.5612 - val_loss: 0.2410 - val_accuracy: 0.5532\n",
      "Epoch 23/120\n",
      "9/9 [==============================] - 0s 36ms/step - loss: 0.2232 - accuracy: 0.5719 - val_loss: 0.2323 - val_accuracy: 0.6096\n",
      "Epoch 24/120\n",
      "9/9 [==============================] - 0s 34ms/step - loss: 0.2231 - accuracy: 0.5666 - val_loss: 0.2432 - val_accuracy: 0.5136\n",
      "Epoch 25/120\n",
      "9/9 [==============================] - 0s 53ms/step - loss: 0.2211 - accuracy: 0.5818 - val_loss: 0.2388 - val_accuracy: 0.5407\n",
      "Epoch 26/120\n",
      "9/9 [==============================] - 1s 82ms/step - loss: 0.2185 - accuracy: 0.5514 - val_loss: 0.2353 - val_accuracy: 0.5470\n",
      "Epoch 27/120\n",
      "9/9 [==============================] - 1s 71ms/step - loss: 0.2165 - accuracy: 0.5684 - val_loss: 0.2518 - val_accuracy: 0.4426\n",
      "Epoch 28/120\n",
      "9/9 [==============================] - 0s 46ms/step - loss: 0.2179 - accuracy: 0.5550 - val_loss: 0.2259 - val_accuracy: 0.6138\n",
      "Epoch 29/120\n",
      "9/9 [==============================] - 1s 67ms/step - loss: 0.2165 - accuracy: 0.5559 - val_loss: 0.2342 - val_accuracy: 0.5324\n",
      "Epoch 30/120\n",
      "9/9 [==============================] - 1s 57ms/step - loss: 0.2149 - accuracy: 0.5710 - val_loss: 0.2408 - val_accuracy: 0.4718\n",
      "Epoch 31/120\n",
      "9/9 [==============================] - 1s 62ms/step - loss: 0.2128 - accuracy: 0.5666 - val_loss: 0.2436 - val_accuracy: 0.4614\n",
      "Epoch 32/120\n",
      "9/9 [==============================] - 1s 58ms/step - loss: 0.2123 - accuracy: 0.5675 - val_loss: 0.2340 - val_accuracy: 0.5094\n",
      "Epoch 33/120\n",
      "9/9 [==============================] - 1s 62ms/step - loss: 0.2098 - accuracy: 0.5827 - val_loss: 0.2278 - val_accuracy: 0.5637\n",
      "Epoch 34/120\n",
      "9/9 [==============================] - 0s 53ms/step - loss: 0.2099 - accuracy: 0.5693 - val_loss: 0.2239 - val_accuracy: 0.5616\n",
      "Epoch 35/120\n",
      "9/9 [==============================] - 0s 42ms/step - loss: 0.2073 - accuracy: 0.5773 - val_loss: 0.2459 - val_accuracy: 0.4426\n",
      "Epoch 36/120\n",
      "9/9 [==============================] - 1s 75ms/step - loss: 0.2061 - accuracy: 0.5791 - val_loss: 0.2208 - val_accuracy: 0.5762\n",
      "Epoch 37/120\n",
      "9/9 [==============================] - 1s 69ms/step - loss: 0.2067 - accuracy: 0.5764 - val_loss: 0.2451 - val_accuracy: 0.4656\n",
      "Epoch 38/120\n",
      "9/9 [==============================] - 0s 49ms/step - loss: 0.2069 - accuracy: 0.5567 - val_loss: 0.2299 - val_accuracy: 0.5177\n",
      "Epoch 39/120\n",
      "9/9 [==============================] - 0s 47ms/step - loss: 0.2050 - accuracy: 0.5782 - val_loss: 0.2472 - val_accuracy: 0.4259\n",
      "Epoch 40/120\n",
      "9/9 [==============================] - 0s 54ms/step - loss: 0.2056 - accuracy: 0.5853 - val_loss: 0.2191 - val_accuracy: 0.5866\n",
      "Epoch 41/120\n",
      "9/9 [==============================] - 0s 56ms/step - loss: 0.2077 - accuracy: 0.5728 - val_loss: 0.2222 - val_accuracy: 0.5553\n",
      "Epoch 42/120\n",
      "9/9 [==============================] - 1s 66ms/step - loss: 0.2051 - accuracy: 0.5818 - val_loss: 0.2152 - val_accuracy: 0.6180\n",
      "Epoch 43/120\n",
      "9/9 [==============================] - 1s 58ms/step - loss: 0.2029 - accuracy: 0.5773 - val_loss: 0.2227 - val_accuracy: 0.5720\n",
      "Epoch 44/120\n",
      "9/9 [==============================] - 1s 61ms/step - loss: 0.2035 - accuracy: 0.5800 - val_loss: 0.2163 - val_accuracy: 0.5908\n",
      "Epoch 45/120\n",
      "9/9 [==============================] - 1s 60ms/step - loss: 0.2027 - accuracy: 0.5737 - val_loss: 0.2213 - val_accuracy: 0.5386\n",
      "Epoch 46/120\n",
      "9/9 [==============================] - 1s 70ms/step - loss: 0.2029 - accuracy: 0.5809 - val_loss: 0.2154 - val_accuracy: 0.5992\n",
      "Epoch 47/120\n",
      "9/9 [==============================] - 1s 71ms/step - loss: 0.1996 - accuracy: 0.5755 - val_loss: 0.2132 - val_accuracy: 0.6117\n",
      "Epoch 48/120\n",
      "9/9 [==============================] - 0s 48ms/step - loss: 0.2009 - accuracy: 0.5737 - val_loss: 0.2122 - val_accuracy: 0.6117\n",
      "Epoch 49/120\n",
      "9/9 [==============================] - 1s 70ms/step - loss: 0.1991 - accuracy: 0.5710 - val_loss: 0.2184 - val_accuracy: 0.5553\n",
      "Epoch 50/120\n",
      "9/9 [==============================] - 1s 56ms/step - loss: 0.2017 - accuracy: 0.5889 - val_loss: 0.2293 - val_accuracy: 0.4823\n",
      "Epoch 51/120\n",
      "9/9 [==============================] - 0s 47ms/step - loss: 0.1986 - accuracy: 0.5827 - val_loss: 0.2280 - val_accuracy: 0.4781\n",
      "Epoch 52/120\n",
      "9/9 [==============================] - 1s 74ms/step - loss: 0.1988 - accuracy: 0.5818 - val_loss: 0.2243 - val_accuracy: 0.5115\n",
      "Epoch 53/120\n",
      "9/9 [==============================] - 1s 59ms/step - loss: 0.1986 - accuracy: 0.5836 - val_loss: 0.2162 - val_accuracy: 0.5574\n",
      "Epoch 54/120\n",
      "9/9 [==============================] - 1s 85ms/step - loss: 0.1997 - accuracy: 0.5827 - val_loss: 0.2218 - val_accuracy: 0.5219\n",
      "Epoch 55/120\n",
      "9/9 [==============================] - 1s 61ms/step - loss: 0.1984 - accuracy: 0.5862 - val_loss: 0.2194 - val_accuracy: 0.5344\n",
      "Epoch 56/120\n",
      "9/9 [==============================] - 0s 41ms/step - loss: 0.1978 - accuracy: 0.5809 - val_loss: 0.2244 - val_accuracy: 0.5094\n",
      "Epoch 57/120\n",
      "9/9 [==============================] - 0s 45ms/step - loss: 0.1965 - accuracy: 0.5853 - val_loss: 0.2281 - val_accuracy: 0.4739\n",
      "Epoch 58/120\n",
      "9/9 [==============================] - 0s 42ms/step - loss: 0.1974 - accuracy: 0.5898 - val_loss: 0.2110 - val_accuracy: 0.6117\n",
      "Epoch 59/120\n"
     ]
    },
    {
     "name": "stdout",
     "output_type": "stream",
     "text": [
      "9/9 [==============================] - 0s 40ms/step - loss: 0.1980 - accuracy: 0.5782 - val_loss: 0.2157 - val_accuracy: 0.5511\n",
      "Epoch 60/120\n",
      "9/9 [==============================] - 0s 40ms/step - loss: 0.1964 - accuracy: 0.5862 - val_loss: 0.2309 - val_accuracy: 0.4676\n",
      "Epoch 61/120\n",
      "9/9 [==============================] - 0s 51ms/step - loss: 0.1977 - accuracy: 0.5791 - val_loss: 0.2130 - val_accuracy: 0.5637\n",
      "Epoch 62/120\n",
      "9/9 [==============================] - 0s 55ms/step - loss: 0.1951 - accuracy: 0.5773 - val_loss: 0.2134 - val_accuracy: 0.5658\n",
      "Epoch 63/120\n",
      "9/9 [==============================] - 1s 65ms/step - loss: 0.1975 - accuracy: 0.5737 - val_loss: 0.2143 - val_accuracy: 0.5637\n",
      "Epoch 64/120\n",
      "9/9 [==============================] - 0s 49ms/step - loss: 0.1968 - accuracy: 0.5693 - val_loss: 0.2216 - val_accuracy: 0.5052\n",
      "Epoch 65/120\n",
      "9/9 [==============================] - 0s 37ms/step - loss: 0.1966 - accuracy: 0.5836 - val_loss: 0.2081 - val_accuracy: 0.6013\n",
      "Epoch 66/120\n",
      "9/9 [==============================] - 0s 51ms/step - loss: 0.1965 - accuracy: 0.5764 - val_loss: 0.2213 - val_accuracy: 0.5240\n",
      "Epoch 67/120\n",
      "9/9 [==============================] - 0s 33ms/step - loss: 0.1942 - accuracy: 0.5907 - val_loss: 0.2191 - val_accuracy: 0.5303\n",
      "Epoch 68/120\n",
      "9/9 [==============================] - 0s 44ms/step - loss: 0.1964 - accuracy: 0.5809 - val_loss: 0.2142 - val_accuracy: 0.5491\n",
      "Epoch 69/120\n",
      "9/9 [==============================] - 0s 32ms/step - loss: 0.1944 - accuracy: 0.5827 - val_loss: 0.2115 - val_accuracy: 0.5637\n",
      "Epoch 70/120\n",
      "9/9 [==============================] - 0s 42ms/step - loss: 0.1936 - accuracy: 0.5853 - val_loss: 0.2102 - val_accuracy: 0.5804\n",
      "Epoch 71/120\n",
      "9/9 [==============================] - 0s 28ms/step - loss: 0.1945 - accuracy: 0.5728 - val_loss: 0.2156 - val_accuracy: 0.5386\n",
      "Epoch 72/120\n",
      "9/9 [==============================] - 0s 37ms/step - loss: 0.1948 - accuracy: 0.5845 - val_loss: 0.2253 - val_accuracy: 0.4969\n",
      "Epoch 73/120\n",
      "9/9 [==============================] - 0s 41ms/step - loss: 0.1959 - accuracy: 0.5889 - val_loss: 0.2244 - val_accuracy: 0.4885\n",
      "Epoch 74/120\n",
      "9/9 [==============================] - 1s 65ms/step - loss: 0.1934 - accuracy: 0.5836 - val_loss: 0.2225 - val_accuracy: 0.5073\n",
      "Epoch 75/120\n",
      "9/9 [==============================] - 0s 35ms/step - loss: 0.1939 - accuracy: 0.5755 - val_loss: 0.2166 - val_accuracy: 0.5303\n",
      "Epoch 76/120\n",
      "9/9 [==============================] - 0s 39ms/step - loss: 0.1947 - accuracy: 0.5719 - val_loss: 0.2093 - val_accuracy: 0.5783\n",
      "Epoch 77/120\n",
      "9/9 [==============================] - 1s 61ms/step - loss: 0.1962 - accuracy: 0.5853 - val_loss: 0.2178 - val_accuracy: 0.5240\n",
      "Epoch 78/120\n",
      "9/9 [==============================] - 0s 41ms/step - loss: 0.1927 - accuracy: 0.5818 - val_loss: 0.2110 - val_accuracy: 0.5741\n",
      "Epoch 79/120\n",
      "9/9 [==============================] - 0s 48ms/step - loss: 0.1960 - accuracy: 0.5728 - val_loss: 0.2203 - val_accuracy: 0.5177\n",
      "Epoch 80/120\n",
      "9/9 [==============================] - 0s 48ms/step - loss: 0.1938 - accuracy: 0.5853 - val_loss: 0.2215 - val_accuracy: 0.5157\n",
      "Epoch 81/120\n",
      "9/9 [==============================] - 0s 55ms/step - loss: 0.1923 - accuracy: 0.5836 - val_loss: 0.2153 - val_accuracy: 0.5407\n",
      "Epoch 82/120\n",
      "9/9 [==============================] - 0s 38ms/step - loss: 0.1915 - accuracy: 0.5827 - val_loss: 0.2306 - val_accuracy: 0.4551\n",
      "Epoch 83/120\n",
      "9/9 [==============================] - 0s 42ms/step - loss: 0.1936 - accuracy: 0.5907 - val_loss: 0.2091 - val_accuracy: 0.5804\n",
      "Epoch 84/120\n",
      "9/9 [==============================] - 0s 47ms/step - loss: 0.1925 - accuracy: 0.5925 - val_loss: 0.2081 - val_accuracy: 0.5783\n",
      "Epoch 85/120\n",
      "9/9 [==============================] - 0s 46ms/step - loss: 0.1916 - accuracy: 0.5907 - val_loss: 0.2226 - val_accuracy: 0.5115\n",
      "Epoch 86/120\n",
      "9/9 [==============================] - 1s 56ms/step - loss: 0.1921 - accuracy: 0.5943 - val_loss: 0.2222 - val_accuracy: 0.5073\n",
      "Epoch 87/120\n",
      "9/9 [==============================] - 1s 57ms/step - loss: 0.1941 - accuracy: 0.5818 - val_loss: 0.2144 - val_accuracy: 0.5407\n",
      "Epoch 88/120\n",
      "9/9 [==============================] - 0s 47ms/step - loss: 0.1909 - accuracy: 0.5845 - val_loss: 0.2104 - val_accuracy: 0.5720\n",
      "Epoch 89/120\n",
      "9/9 [==============================] - 0s 42ms/step - loss: 0.1944 - accuracy: 0.5684 - val_loss: 0.2096 - val_accuracy: 0.5616\n",
      "Epoch 90/120\n",
      "9/9 [==============================] - 0s 30ms/step - loss: 0.1905 - accuracy: 0.5925 - val_loss: 0.2294 - val_accuracy: 0.4530\n",
      "Epoch 91/120\n",
      "9/9 [==============================] - 0s 39ms/step - loss: 0.1925 - accuracy: 0.5925 - val_loss: 0.2112 - val_accuracy: 0.5553\n",
      "Epoch 92/120\n",
      "9/9 [==============================] - 0s 46ms/step - loss: 0.1918 - accuracy: 0.5880 - val_loss: 0.2083 - val_accuracy: 0.5720\n",
      "Epoch 93/120\n",
      "9/9 [==============================] - 1s 62ms/step - loss: 0.1909 - accuracy: 0.5898 - val_loss: 0.2094 - val_accuracy: 0.5678\n",
      "Epoch 94/120\n",
      "9/9 [==============================] - 0s 44ms/step - loss: 0.1909 - accuracy: 0.5827 - val_loss: 0.2322 - val_accuracy: 0.4301\n",
      "Epoch 95/120\n",
      "9/9 [==============================] - 0s 39ms/step - loss: 0.1928 - accuracy: 0.5871 - val_loss: 0.2117 - val_accuracy: 0.5616\n",
      "Epoch 96/120\n",
      "9/9 [==============================] - 0s 44ms/step - loss: 0.1909 - accuracy: 0.5782 - val_loss: 0.2114 - val_accuracy: 0.5532\n",
      "Epoch 97/120\n",
      "9/9 [==============================] - 0s 41ms/step - loss: 0.1911 - accuracy: 0.5889 - val_loss: 0.2067 - val_accuracy: 0.5866\n",
      "Epoch 98/120\n",
      "9/9 [==============================] - 0s 39ms/step - loss: 0.1913 - accuracy: 0.5845 - val_loss: 0.2127 - val_accuracy: 0.5553\n",
      "Epoch 99/120\n",
      "9/9 [==============================] - 0s 49ms/step - loss: 0.1908 - accuracy: 0.5800 - val_loss: 0.2067 - val_accuracy: 0.5887\n",
      "Epoch 100/120\n",
      "9/9 [==============================] - 0s 33ms/step - loss: 0.1919 - accuracy: 0.5853 - val_loss: 0.2129 - val_accuracy: 0.5428\n",
      "Epoch 101/120\n",
      "9/9 [==============================] - 0s 48ms/step - loss: 0.1897 - accuracy: 0.5979 - val_loss: 0.2068 - val_accuracy: 0.5846\n",
      "Epoch 102/120\n",
      "9/9 [==============================] - 0s 45ms/step - loss: 0.1923 - accuracy: 0.5791 - val_loss: 0.2065 - val_accuracy: 0.5908\n",
      "Epoch 103/120\n",
      "9/9 [==============================] - 0s 35ms/step - loss: 0.1902 - accuracy: 0.5862 - val_loss: 0.2151 - val_accuracy: 0.5324\n",
      "Epoch 104/120\n",
      "9/9 [==============================] - 0s 44ms/step - loss: 0.1902 - accuracy: 0.5934 - val_loss: 0.2101 - val_accuracy: 0.5553\n",
      "Epoch 105/120\n",
      "9/9 [==============================] - 1s 74ms/step - loss: 0.1906 - accuracy: 0.5800 - val_loss: 0.2060 - val_accuracy: 0.5720\n",
      "Epoch 106/120\n",
      "9/9 [==============================] - 1s 66ms/step - loss: 0.1900 - accuracy: 0.5889 - val_loss: 0.2106 - val_accuracy: 0.5511\n",
      "Epoch 107/120\n",
      "9/9 [==============================] - 1s 61ms/step - loss: 0.1898 - accuracy: 0.5889 - val_loss: 0.2315 - val_accuracy: 0.4593\n",
      "Epoch 108/120\n",
      "9/9 [==============================] - 1s 71ms/step - loss: 0.1904 - accuracy: 0.5979 - val_loss: 0.2079 - val_accuracy: 0.5783\n",
      "Epoch 109/120\n",
      "9/9 [==============================] - 1s 62ms/step - loss: 0.1892 - accuracy: 0.5970 - val_loss: 0.2050 - val_accuracy: 0.5825\n",
      "Epoch 110/120\n",
      "9/9 [==============================] - 1s 64ms/step - loss: 0.1903 - accuracy: 0.5934 - val_loss: 0.2137 - val_accuracy: 0.5428\n",
      "Epoch 111/120\n",
      "9/9 [==============================] - 0s 34ms/step - loss: 0.1884 - accuracy: 0.5970 - val_loss: 0.2165 - val_accuracy: 0.5303\n",
      "Epoch 112/120\n",
      "9/9 [==============================] - 0s 42ms/step - loss: 0.1913 - accuracy: 0.5764 - val_loss: 0.2072 - val_accuracy: 0.5595\n",
      "Epoch 113/120\n",
      "9/9 [==============================] - 1s 65ms/step - loss: 0.1886 - accuracy: 0.5916 - val_loss: 0.2060 - val_accuracy: 0.5825\n",
      "Epoch 114/120\n",
      "9/9 [==============================] - 1s 56ms/step - loss: 0.1919 - accuracy: 0.5702 - val_loss: 0.2111 - val_accuracy: 0.5553\n",
      "Epoch 115/120\n",
      "9/9 [==============================] - 1s 67ms/step - loss: 0.1889 - accuracy: 0.5836 - val_loss: 0.2138 - val_accuracy: 0.5470\n",
      "Epoch 116/120\n",
      "9/9 [==============================] - 0s 54ms/step - loss: 0.1900 - accuracy: 0.5809 - val_loss: 0.2106 - val_accuracy: 0.5574\n",
      "Epoch 117/120\n"
     ]
    },
    {
     "name": "stdout",
     "output_type": "stream",
     "text": [
      "9/9 [==============================] - 0s 44ms/step - loss: 0.1895 - accuracy: 0.5889 - val_loss: 0.2091 - val_accuracy: 0.5574\n",
      "Epoch 118/120\n",
      "9/9 [==============================] - 0s 41ms/step - loss: 0.1889 - accuracy: 0.5961 - val_loss: 0.2122 - val_accuracy: 0.5678\n",
      "Epoch 119/120\n",
      "9/9 [==============================] - 0s 30ms/step - loss: 0.1893 - accuracy: 0.5943 - val_loss: 0.2140 - val_accuracy: 0.5344\n",
      "Epoch 120/120\n",
      "9/9 [==============================] - 0s 40ms/step - loss: 0.1889 - accuracy: 0.5943 - val_loss: 0.2193 - val_accuracy: 0.5073\n"
     ]
    },
    {
     "data": {
      "text/plain": [
       "<tensorflow.python.keras.callbacks.History at 0x7f71a687dd60>"
      ]
     },
     "execution_count": 33,
     "metadata": {},
     "output_type": "execute_result"
    }
   ],
   "source": [
    "#Treino\n",
    "r.fit(x=d_treino,y=l_treino, epochs=120,validation_data=(d_test,l_test), batch_size=128)"
   ]
  },
  {
   "cell_type": "code",
   "execution_count": 34,
   "metadata": {},
   "outputs": [],
   "source": [
    "import matplotlib.pyplot as plt"
   ]
  },
  {
   "cell_type": "code",
   "execution_count": 35,
   "metadata": {},
   "outputs": [
    {
     "data": {
      "text/plain": [
       "<tensorflow.python.keras.engine.sequential.Sequential at 0x7f724b1c57c0>"
      ]
     },
     "execution_count": 35,
     "metadata": {},
     "output_type": "execute_result"
    }
   ],
   "source": [
    "rede"
   ]
  },
  {
   "cell_type": "code",
   "execution_count": 36,
   "metadata": {},
   "outputs": [
    {
     "name": "stdout",
     "output_type": "stream",
     "text": [
      "dict_keys(['loss', 'accuracy', 'val_loss', 'val_accuracy'])\n"
     ]
    },
    {
     "data": {
      "image/png": "[encoded data removed]",
      "text/plain": [
       "<Figure size 432x288 with 1 Axes>"
      ]
     },
     "metadata": {
      "needs_background": "light"
     },
     "output_type": "display_data"
    }
   ],
   "source": [
    "print(r.history.history.keys())\n",
    "plt.plot(r.history.history['accuracy'],label = 'train accuracy')\n",
    "plt.plot(r.history.history['val_accuracy'],label = 'val_accuracy')\n",
    "plt.title('Train vs val')\n",
    "plt.ylabel('Accuracy')\n",
    "plt.xlabel('epoch')\n",
    "plt.legend(['train', 'test'], loc='upper left')\n",
    "#plt.savefig(dire+'/Loss.png')\n",
    "plt.show()"
   ]
  },
  {
   "cell_type": "code",
   "execution_count": 20,
   "metadata": {},
   "outputs": [
    {
     "ename": "NameError",
     "evalue": "name 'd_test' is not defined",
     "output_type": "error",
     "traceback": [
      "\u001b[0;31m---------------------------------------------------------------------------\u001b[0m",
      "\u001b[0;31mNameError\u001b[0m                                 Traceback (most recent call last)",
      "\u001b[0;32m<ipython-input-20-f5d5da01701f>\u001b[0m in \u001b[0;36m<module>\u001b[0;34m\u001b[0m\n\u001b[0;32m----> 1\u001b[0;31m \u001b[0mprint\u001b[0m\u001b[0;34m(\u001b[0m\u001b[0md_test\u001b[0m\u001b[0;34m[\u001b[0m\u001b[0;36m0\u001b[0m\u001b[0;34m,\u001b[0m\u001b[0;34m:\u001b[0m\u001b[0;34m]\u001b[0m\u001b[0;34m.\u001b[0m\u001b[0mshape\u001b[0m\u001b[0;34m)\u001b[0m\u001b[0;34m\u001b[0m\u001b[0;34m\u001b[0m\u001b[0m\n\u001b[0m\u001b[1;32m      2\u001b[0m \u001b[0;32mfor\u001b[0m \u001b[0mi\u001b[0m \u001b[0;32min\u001b[0m \u001b[0mrange\u001b[0m\u001b[0;34m(\u001b[0m\u001b[0;36m10\u001b[0m\u001b[0;34m)\u001b[0m\u001b[0;34m:\u001b[0m\u001b[0;34m\u001b[0m\u001b[0;34m\u001b[0m\u001b[0m\n\u001b[1;32m      3\u001b[0m     \u001b[0mpred_sample\u001b[0m \u001b[0;34m=\u001b[0m \u001b[0md_test\u001b[0m\u001b[0;34m[\u001b[0m\u001b[0mi\u001b[0m\u001b[0;34m]\u001b[0m\u001b[0;34m\u001b[0m\u001b[0;34m\u001b[0m\u001b[0m\n\u001b[1;32m      4\u001b[0m     \u001b[0mpred_sample\u001b[0m \u001b[0;34m=\u001b[0m \u001b[0mnp\u001b[0m\u001b[0;34m.\u001b[0m\u001b[0mreshape\u001b[0m\u001b[0;34m(\u001b[0m\u001b[0mpred_sample\u001b[0m\u001b[0;34m,\u001b[0m\u001b[0;34m(\u001b[0m\u001b[0;36m1\u001b[0m\u001b[0;34m,\u001b[0m\u001b[0;36m11\u001b[0m\u001b[0;34m)\u001b[0m\u001b[0;34m)\u001b[0m\u001b[0;34m\u001b[0m\u001b[0;34m\u001b[0m\u001b[0m\n\u001b[1;32m      5\u001b[0m     \u001b[0mprediction\u001b[0m \u001b[0;34m=\u001b[0m \u001b[0mrede\u001b[0m\u001b[0;34m.\u001b[0m\u001b[0mpredict\u001b[0m\u001b[0;34m(\u001b[0m\u001b[0mpred_sample\u001b[0m\u001b[0;34m)\u001b[0m\u001b[0;34m\u001b[0m\u001b[0;34m\u001b[0m\u001b[0m\n",
      "\u001b[0;31mNameError\u001b[0m: name 'd_test' is not defined"
     ]
    }
   ],
   "source": [
    "print(d_test[0,:].shape)\n",
    "for i in range(10):\n",
    "    pred_sample = d_test[i]\n",
    "    pred_sample = np.reshape(pred_sample,(1,11))\n",
    "    prediction = rede.predict(pred_sample)\n",
    "    print('rede preveu:' + str(prediction.argmax()) + '  --- valor real é:' + str(l_test[i].argmax()))"
   ]
  },
  {
   "cell_type": "code",
   "execution_count": 36,
   "metadata": {},
   "outputs": [],
   "source": [
    "predictions = rede.predict(d_test)"
   ]
  },
  {
   "cell_type": "code",
   "execution_count": 37,
   "metadata": {},
   "outputs": [
    {
     "data": {
      "text/plain": [
       "(9,)"
      ]
     },
     "execution_count": 37,
     "metadata": {},
     "output_type": "execute_result"
    }
   ],
   "source": [
    "#Calcula a probabilidade para cada classe\n",
    "predictions[0].shape"
   ]
  },
  {
   "cell_type": "code",
   "execution_count": 38,
   "metadata": {},
   "outputs": [
    {
     "data": {
      "text/plain": [
       "1.0"
      ]
     },
     "execution_count": 38,
     "metadata": {},
     "output_type": "execute_result"
    }
   ],
   "source": [
    "np.sum(predictions[0])"
   ]
  },
  {
   "cell_type": "code",
   "execution_count": 39,
   "metadata": {},
   "outputs": [
    {
     "data": {
      "text/plain": [
       "6"
      ]
     },
     "execution_count": 39,
     "metadata": {},
     "output_type": "execute_result"
    }
   ],
   "source": [
    "np.argmax(predictions[0])"
   ]
  },
  {
   "cell_type": "code",
   "execution_count": null,
   "metadata": {},
   "outputs": [],
   "source": []
  }
 ],
 "metadata": {
  "kernelspec": {
   "display_name": "Python 3",
   "language": "python",
   "name": "python3"
  },
  "language_info": {
   "codemirror_mode": {
    "name": "ipython",
    "version": 3
   },
   "file_extension": ".py",
   "mimetype": "text/x-python",
   "name": "python",
   "nbconvert_exporter": "python",
   "pygments_lexer": "ipython3",
   "version": "3.8.2"
  }
 },
 "nbformat": 4,
 "nbformat_minor": 4
}
